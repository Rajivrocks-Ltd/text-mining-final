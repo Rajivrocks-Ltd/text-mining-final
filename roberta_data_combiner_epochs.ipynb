{
 "cells": [
  {
   "cell_type": "code",
   "execution_count": 1,
   "metadata": {},
   "outputs": [],
   "source": [
    "# Imports\n",
    "import pandas as pd"
   ]
  },
  {
   "cell_type": "code",
   "execution_count": 2,
   "metadata": {},
   "outputs": [],
   "source": [
    "df_original_exp = pd.read_excel('Experiments_full_labeled.xlsx')\n",
    "df_roberta_4 = pd.read_excel('Experiments_epoch4_roberta.xlsx')\n",
    "df_roberta_5 = pd.read_excel('Experiments_epoch5_roberta.xlsx')"
   ]
  },
  {
   "cell_type": "code",
   "execution_count": 3,
   "metadata": {},
   "outputs": [],
   "source": [
    "df_roberta_3 = df_original_exp[df_original_exp['Model'] == 'roberta-large']"
   ]
  },
  {
   "cell_type": "code",
   "execution_count": 4,
   "metadata": {},
   "outputs": [
    {
     "name": "stderr",
     "output_type": "stream",
     "text": [
      "/tmp/ipykernel_14590/1981737455.py:1: SettingWithCopyWarning: \n",
      "A value is trying to be set on a copy of a slice from a DataFrame.\n",
      "Try using .loc[row_indexer,col_indexer] = value instead\n",
      "\n",
      "See the caveats in the documentation: https://pandas.pydata.org/pandas-docs/stable/user_guide/indexing.html#returning-a-view-versus-a-copy\n",
      "  df_roberta_3['Epoch'] = 3\n"
     ]
    }
   ],
   "source": [
    "df_roberta_3['Epoch'] = 3\n",
    "df_roberta_4['Epoch'] = 4\n",
    "df_roberta_5['Epoch'] = 5"
   ]
  },
  {
   "cell_type": "code",
   "execution_count": 6,
   "metadata": {},
   "outputs": [],
   "source": [
    "df_roberta_epoch_exp_full = pd.concat([df_roberta_3, df_roberta_4, df_roberta_5])\n",
    "df_roberta_epoch_exp_full.to_excel('Experiments_Roberta_epoch_complete.xlsx')"
   ]
  }
 ],
 "metadata": {
  "kernelspec": {
   "display_name": "pyenv",
   "language": "python",
   "name": "python3"
  },
  "language_info": {
   "codemirror_mode": {
    "name": "ipython",
    "version": 3
   },
   "file_extension": ".py",
   "mimetype": "text/x-python",
   "name": "python",
   "nbconvert_exporter": "python",
   "pygments_lexer": "ipython3",
   "version": "3.12.8"
  }
 },
 "nbformat": 4,
 "nbformat_minor": 2
}
