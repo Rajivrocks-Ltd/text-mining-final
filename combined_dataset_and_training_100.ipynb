{
 "cells": [
  {
   "cell_type": "code",
   "id": "initial_id",
   "metadata": {
    "collapsed": true,
    "ExecuteTime": {
     "end_time": "2024-12-22T12:59:07.841046Z",
     "start_time": "2024-12-22T12:59:02.614974Z"
    }
   },
   "source": [
    "import re\n",
    "import random\n",
    "import os\n",
    "import json\n",
    "import evaluate\n",
    "\n",
    "from transformers import AutoTokenizer, AutoModelForTokenClassification, get_scheduler\n",
    "from transformers import DataCollatorForTokenClassification\n",
    "from datasets import Dataset, DatasetDict, Features, Sequence, Value, ClassLabel\n",
    "\n",
    "from sklearn.model_selection import ParameterGrid\n",
    "from sklearn.metrics import precision_recall_fscore_support\n",
    "\n",
    "import torch\n",
    "from torch.utils.data import DataLoader\n",
    "from accelerate import Accelerator\n",
    "from tqdm import tqdm"
   ],
   "outputs": [
    {
     "name": "stderr",
     "output_type": "stream",
     "text": [
      "D:\\Users\\Rajiv\\Desktop\\Leiden university\\Master\\Text mining\\Assignments\\Final\\text-mining-final\\.venv\\Lib\\site-packages\\tqdm\\auto.py:21: TqdmWarning: IProgress not found. Please update jupyter and ipywidgets. See https://ipywidgets.readthedocs.io/en/stable/user_install.html\n",
      "  from .autonotebook import tqdm as notebook_tqdm\n"
     ]
    }
   ],
   "execution_count": 1
  },
  {
   "cell_type": "markdown",
   "id": "6fcf0ba874e901ac",
   "metadata": {},
   "source": [
    "## Combine all .txt and .ann files and combine them per medicine"
   ]
  },
  {
   "cell_type": "code",
   "id": "aa71104cf543fea",
   "metadata": {
    "ExecuteTime": {
     "end_time": "2024-12-22T12:59:09.513475Z",
     "start_time": "2024-12-22T12:59:07.999876Z"
    }
   },
   "source": [
    "# Base folders containing annotation and text files\n",
    "annotations_folder = 'annotations/'\n",
    "original_texts_folder = 'originaltexts/'\n",
    "output_folder = 'output_datasets/'\n",
    "os.makedirs(output_folder, exist_ok=True)\n",
    "\n",
    "# Group files by medicine\n",
    "file_groups = {}\n",
    "for file_name in os.listdir(annotations_folder):\n",
    "    if file_name.endswith('.ann'):\n",
    "        base_name = '.'.join(file_name.split('.')[:-1])\n",
    "        medicine = base_name.rsplit('.', 1)[0]\n",
    "        file_groups.setdefault(medicine, []).append(file_name)\n",
    "\n",
    "# Process each group\n",
    "for medicine, ann_files in file_groups.items():\n",
    "    combined_output = []\n",
    "\n",
    "    for ann_file in ann_files:\n",
    "        txt_file = ann_file.replace('.ann', '.txt')\n",
    "        txt_path = os.path.join(original_texts_folder, txt_file)\n",
    "        ann_path = os.path.join(annotations_folder, ann_file)\n",
    "\n",
    "        # Ensure the corresponding .txt file exists\n",
    "        if not os.path.exists(txt_path):\n",
    "            raise FileNotFoundError(f\"Text file not found for annotation file {ann_file}\")\n",
    "\n",
    "        # Read the content of the .ann and .txt files\n",
    "        with open(ann_path, 'r') as ann_f:\n",
    "            ann_lines = ann_f.readlines()\n",
    "\n",
    "        with open(txt_path, 'r') as txt_f:\n",
    "            txt_content = txt_f.read()\n",
    "\n",
    "        # Parse annotations and filter out AnnotatorNotes\n",
    "        annotations = []\n",
    "        for line in ann_lines:\n",
    "            if line.startswith('T'):\n",
    "                parts = line.strip().split('\\t')\n",
    "                if len(parts) == 3:\n",
    "                    tag_info, word = parts[1], parts[2]\n",
    "                    tag_parts = tag_info.split()\n",
    "                    if len(tag_parts) >= 3:\n",
    "                        tag = tag_parts[0]\n",
    "                        try:\n",
    "                            start_idx = int(tag_parts[1])\n",
    "                            end_idx = int(tag_parts[2])\n",
    "                        except ValueError:\n",
    "                            if ';' in tag_parts[2]:  # Handle ranges like '742;763'\n",
    "                                start_idx = int(tag_parts[1])\n",
    "                                end_idx = int(tag_parts[2].split(';')[-1])\n",
    "                            else:\n",
    "                                raise ValueError(f\"Unexpected annotation format: {tag_parts}\")\n",
    "                        annotations.append((start_idx, end_idx, tag, word))\n",
    "\n",
    "        # Sort annotations by start index\n",
    "        annotations.sort(key=lambda x: x[0])\n",
    "\n",
    "        # Generate output format\n",
    "        output = []\n",
    "        current_idx = 0\n",
    "        for start_idx, end_idx, tag, word in annotations:\n",
    "            # Add text between the last annotation and the current annotation as \"O\"\n",
    "            if current_idx < start_idx:\n",
    "                intervening_text = txt_content[current_idx:start_idx]\n",
    "                for token in re.findall(r\"\\w+(?:'\\w+)?|[.,!?]\", intervening_text):\n",
    "                    output.append(f\"{token} O\")\n",
    "\n",
    "            # Add the annotated word with its tag\n",
    "            for i, token in enumerate(word.split()):\n",
    "                tag_prefix = 'B-' if i == 0 else 'I-'\n",
    "                output.append(f\"{token} {tag_prefix}{tag}\")\n",
    "\n",
    "            current_idx = end_idx\n",
    "\n",
    "        # Add remaining text as \"O\"\n",
    "        if current_idx < len(txt_content):\n",
    "            remaining_text = txt_content[current_idx:]\n",
    "            for token in re.findall(r\"\\w+(?:'\\w+)?|[.,!?]\", remaining_text):\n",
    "                output.append(f\"{token} O\")\n",
    "\n",
    "        # Add to combined output with a newline separator\n",
    "        combined_output.extend(output)\n",
    "        combined_output.append('')  # Empty line between posts\n",
    "\n",
    "    # Write combined output to file\n",
    "    combined_output_text = '\\n'.join(combined_output).strip()\n",
    "    output_file = os.path.join(output_folder, f\"{medicine}_combined_output.txt\")\n",
    "    with open(output_file, 'w') as out_f:\n",
    "        out_f.write(combined_output_text)\n",
    "\n",
    "    print(f\"Combined output saved for {medicine} in {output_file}\")"
   ],
   "outputs": [
    {
     "name": "stdout",
     "output_type": "stream",
     "text": [
      "Combined output saved for ARTHROTEC in output_datasets/ARTHROTEC_combined_output.txt\n",
      "Combined output saved for CAMBIA in output_datasets/CAMBIA_combined_output.txt\n",
      "Combined output saved for CATAFLAM in output_datasets/CATAFLAM_combined_output.txt\n",
      "Combined output saved for DICLOFENAC-POTASSIUM in output_datasets/DICLOFENAC-POTASSIUM_combined_output.txt\n",
      "Combined output saved for DICLOFENAC-SODIUM in output_datasets/DICLOFENAC-SODIUM_combined_output.txt\n",
      "Combined output saved for FLECTOR in output_datasets/FLECTOR_combined_output.txt\n",
      "Combined output saved for LIPITOR in output_datasets/LIPITOR_combined_output.txt\n",
      "Combined output saved for PENNSAID in output_datasets/PENNSAID_combined_output.txt\n",
      "Combined output saved for SOLARAZE in output_datasets/SOLARAZE_combined_output.txt\n",
      "Combined output saved for VOLTAREN-XR in output_datasets/VOLTAREN-XR_combined_output.txt\n",
      "Combined output saved for VOLTAREN in output_datasets/VOLTAREN_combined_output.txt\n",
      "Combined output saved for ZIPSOR in output_datasets/ZIPSOR_combined_output.txt\n"
     ]
    }
   ],
   "execution_count": 2
  },
  {
   "cell_type": "markdown",
   "id": "806f757861e7d38d",
   "metadata": {},
   "source": [
    "## Combine all the medicine files into one dataset"
   ]
  },
  {
   "cell_type": "code",
   "id": "f940e15d9430fc7b",
   "metadata": {
    "ExecuteTime": {
     "end_time": "2024-12-22T12:59:09.539710Z",
     "start_time": "2024-12-22T12:59:09.523048Z"
    }
   },
   "source": [
    "# Folder containing all combined output files\n",
    "output_datasets_folder = 'output_datasets/'\n",
    "final_output_file = 'final_dataset.txt'\n",
    "\n",
    "# Ensure the folder exists\n",
    "if not os.path.exists(output_datasets_folder):\n",
    "    raise FileNotFoundError(f\"The folder {output_datasets_folder} does not exist.\")\n",
    "\n",
    "# List all files in the folder\n",
    "output_files = [f for f in os.listdir(output_datasets_folder) if f.endswith('_combined_output.txt')]\n",
    "\n",
    "# Combine all files into a single final dataset\n",
    "final_dataset = []\n",
    "for file_name in output_files:\n",
    "    file_path = os.path.join(output_datasets_folder, file_name)\n",
    "    with open(file_path, 'r') as f:\n",
    "        content = f.read().strip()  # Read and strip any trailing spaces or newlines\n",
    "        final_dataset.append(content)\n",
    "\n",
    "    # Add an empty line to separate posts from different files\n",
    "    final_dataset.append('')\n",
    "\n",
    "# Write the combined dataset to the final output file\n",
    "with open(final_output_file, 'w') as f:\n",
    "    f.write('\\n'.join(final_dataset).strip())  # Ensure no extra trailing newline\n",
    "\n",
    "print(f\"Final dataset saved to {final_output_file}\")"
   ],
   "outputs": [
    {
     "name": "stdout",
     "output_type": "stream",
     "text": [
      "Final dataset saved to final_dataset.txt\n"
     ]
    }
   ],
   "execution_count": 3
  },
  {
   "cell_type": "markdown",
   "id": "3269e1b5930cd4c4",
   "metadata": {},
   "source": [
    "## Read the final dataset into the Iob dataset format"
   ]
  },
  {
   "cell_type": "code",
   "id": "435d59ec1801f10d",
   "metadata": {
    "ExecuteTime": {
     "end_time": "2024-12-22T12:59:09.559432Z",
     "start_time": "2024-12-22T12:59:09.553407Z"
    }
   },
   "source": [
    "def read_iob_file(file_path):\n",
    "    \"\"\"Reads an IOB file from filepath and returns sentences with tokens and tags.\"\"\"\n",
    "    sentences = []\n",
    "    sentence_tokens = []\n",
    "    sentence_labels = []\n",
    "\n",
    "    with open(file_path, \"r\", encoding=\"utf-8\") as file:\n",
    "        for line in file:\n",
    "            line = line.strip()\n",
    "            if line:  # If line is not empty\n",
    "                token, tag = line.split()\n",
    "                sentence_tokens.append(token)\n",
    "                sentence_labels.append(tag)\n",
    "\n",
    "            else:\n",
    "                # End of a sentence\n",
    "                if sentence_tokens:\n",
    "                    sentences.append({\"tokens\": sentence_tokens, \"ner_tags\": sentence_labels})\n",
    "                    sentence_tokens = []\n",
    "                    sentence_labels = []\n",
    "        # Add the last sentence if file doesn't end with a newline\n",
    "        if sentence_tokens:\n",
    "            sentences.append({\"tokens\": sentence_tokens, \"ner_tags\": sentence_labels})\n",
    "    return sentences\n",
    "\n",
    "def create_dataset_from_final_file(final_file_path):\n",
    "    \"\"\"Create a dataset from a single IOB file and return it as a DatasetDict.\"\"\"\n",
    "\n",
    "    if not os.path.exists(final_file_path):\n",
    "        raise FileNotFoundError(f\"The file {final_file_path} does not exist.\")\n",
    "\n",
    "    # Parse the file\n",
    "    data = read_iob_file(final_file_path)\n",
    "\n",
    "    # Define the label names and ClassLabel feature\n",
    "    unique_labels = sorted(set(tag for d in data for tag in d[\"ner_tags\"]))\n",
    "    label_feature = ClassLabel(names=unique_labels)\n",
    "\n",
    "    # Define the Features schema for Hugging Face datasets\n",
    "    features = Features({\n",
    "        'tokens': Sequence(Value(\"string\")),\n",
    "        'ner_tags': Sequence(label_feature)\n",
    "    })\n",
    "\n",
    "    # Convert data into a Dataset\n",
    "    dataset = Dataset.from_list(data).cast(features)\n",
    "\n",
    "    # Create a DatasetDict\n",
    "    dataset_dict = DatasetDict({\"full_data\": dataset})\n",
    "\n",
    "    return dataset_dict\n"
   ],
   "outputs": [],
   "execution_count": 4
  },
  {
   "cell_type": "code",
   "id": "35b8e6d4d262ac49",
   "metadata": {
    "ExecuteTime": {
     "end_time": "2024-12-22T12:59:09.830950Z",
     "start_time": "2024-12-22T12:59:09.566571Z"
    }
   },
   "source": [
    "final_dataset_path = \"final_dataset.txt\"\n",
    "dataset_dict = create_dataset_from_final_file(final_dataset_path)\n",
    "dataset = dataset_dict['full_data']"
   ],
   "outputs": [
    {
     "name": "stderr",
     "output_type": "stream",
     "text": [
      "Casting the dataset: 100%|██████████| 1248/1248 [00:00<00:00, 6377.70 examples/s]\n"
     ]
    }
   ],
   "execution_count": 5
  },
  {
   "cell_type": "markdown",
   "id": "a85774695bc51613",
   "metadata": {},
   "source": [
    "## Tokenize and align labels, also add datacollator"
   ]
  },
  {
   "cell_type": "code",
   "id": "5b8c9593f60bdb7e",
   "metadata": {
    "ExecuteTime": {
     "end_time": "2024-12-22T12:59:09.843824Z",
     "start_time": "2024-12-22T12:59:09.838284Z"
    }
   },
   "source": [
    "def align_labels_with_tokens(labels, word_ids):\n",
    "    new_labels = []\n",
    "    current_word = None\n",
    "\n",
    "    for word_id in word_ids:\n",
    "        if word_id != current_word:\n",
    "            current_word = word_id\n",
    "            label = -100 if word_id is None else labels[word_id]\n",
    "            new_labels.append(label)\n",
    "\n",
    "        elif word_id is None:\n",
    "            # Special token\n",
    "            new_labels.append(-100)\n",
    "\n",
    "        else:\n",
    "            # Same word as previous token\n",
    "            label = labels[word_id]\n",
    "\n",
    "            # If the label is B-XXX we change it to I-XXX\n",
    "            if label % 2 == 1:\n",
    "                label += 1\n",
    "            new_labels.append(label)\n",
    "\n",
    "    return new_labels\n",
    "\n",
    "\n",
    "def tokenize_and_align_labels(examples):\n",
    "    tokenized_inputs = tokenizer(\n",
    "        examples[\"tokens\"], truncation=True,\n",
    "        is_split_into_words=True\n",
    "    )\n",
    "    all_labels = examples[\"ner_tags\"]\n",
    "    new_labels = []\n",
    "    for i, labels in enumerate(all_labels):\n",
    "        word_ids = tokenized_inputs.word_ids(i)\n",
    "        new_labels.append(align_labels_with_tokens(labels, word_ids))\n",
    "\n",
    "    tokenized_inputs[\"labels\"] = new_labels\n",
    "    return tokenized_inputs"
   ],
   "outputs": [],
   "execution_count": 6
  },
  {
   "cell_type": "markdown",
   "id": "1798cebc48c3299c",
   "metadata": {},
   "source": [
    "## Dataset generators"
   ]
  },
  {
   "cell_type": "code",
   "id": "b4b79e14d8ca0efa",
   "metadata": {
    "ExecuteTime": {
     "end_time": "2024-12-22T12:59:09.855415Z",
     "start_time": "2024-12-22T12:59:09.850933Z"
    }
   },
   "source": [
    "def generate_train_datasets(dataset, number_of_samples, number_of_splits):\n",
    "    \"\"\"\n",
    "    Generates train datasets by sampling from the given dataset based on the number of samples and splits.\n",
    "\n",
    "    Args:\n",
    "        dataset (Dataset): The base dataset to sample from.\n",
    "        number_of_samples (int): Number of samples per dataset.\n",
    "        number_of_splits (int): Number of datasets to generate (different seeds).\n",
    "\n",
    "    Returns:\n",
    "        List[Tuple[str, Dataset, List[int]]]: List of generated datasets with their names and indices.\n",
    "    \"\"\"\n",
    "    datasets = []\n",
    "\n",
    "    for seed in range(number_of_splits):\n",
    "        # Set the random seed for reproducibility\n",
    "        random.seed(seed)\n",
    "\n",
    "        # Shuffle and sample from the dataset\n",
    "        indices = list(range(len(dataset)))\n",
    "        random.shuffle(indices)\n",
    "        sampled_indices = indices[:number_of_samples]\n",
    "\n",
    "        sampled_dataset = dataset.select(sampled_indices)\n",
    "\n",
    "        # Add the dataset with its name and indices\n",
    "        datasets.append((f\"train_dataset_{number_of_samples}_{seed}\", sampled_dataset, sampled_indices))\n",
    "\n",
    "    return datasets"
   ],
   "outputs": [],
   "execution_count": 7
  },
  {
   "cell_type": "code",
   "id": "513adc9d9f4ee109",
   "metadata": {
    "ExecuteTime": {
     "end_time": "2024-12-22T12:59:09.871615Z",
     "start_time": "2024-12-22T12:59:09.866487Z"
    }
   },
   "source": [
    "def generate_validation_datasets(dataset, train_indices, number_of_samples, number_of_splits):\n",
    "    \"\"\"\n",
    "    Generates validation datasets by sampling from the given dataset, ensuring no overlap with training data.\n",
    "\n",
    "    Args:\n",
    "        dataset (Dataset): The base dataset to sample from.\n",
    "        train_indices (List[int]): Indices of the training dataset to exclude from sampling.\n",
    "        number_of_samples (int): Number of samples per validation dataset.\n",
    "        number_of_splits (int): Number of validation datasets to generate (different seeds).\n",
    "\n",
    "    Returns:\n",
    "        List[Tuple[str, Dataset, List[int]]]: List of generated validation datasets with names and indices.\n",
    "    \"\"\"\n",
    "    datasets = []\n",
    "    all_indices = set(range(len(dataset)))\n",
    "    available_indices = list(all_indices - set(train_indices))  # Exclude training indices\n",
    "\n",
    "    for seed in range(number_of_splits):\n",
    "        # Set the random seed for reproducibility\n",
    "        random.seed(seed)\n",
    "\n",
    "        # Shuffle and sample from the remaining indices\n",
    "        random.shuffle(available_indices)\n",
    "        sampled_indices = available_indices[:number_of_samples]\n",
    "\n",
    "        sampled_dataset = dataset.select(sampled_indices)\n",
    "\n",
    "        # Add the dataset with its name and indices\n",
    "        datasets.append((f\"val_dataset_{number_of_samples}_{seed}\", sampled_dataset, sampled_indices))\n",
    "\n",
    "    return datasets"
   ],
   "outputs": [],
   "execution_count": 8
  },
  {
   "cell_type": "code",
   "id": "58e5dae8d7e7bcf8",
   "metadata": {
    "ExecuteTime": {
     "end_time": "2024-12-22T12:59:09.911466Z",
     "start_time": "2024-12-22T12:59:09.907440Z"
    }
   },
   "source": [
    "def generate_test_datasets(dataset, train_indices, val_indices, number_of_samples, number_of_splits):\n",
    "    \"\"\"\n",
    "    Generates test datasets by sampling from the given dataset, ensuring no overlap with training or validation data.\n",
    "\n",
    "    Args:\n",
    "        dataset (Dataset): The base dataset to sample from.\n",
    "        train_indices (List[int]): Indices of the training dataset to exclude from sampling.\n",
    "        val_indices (List[int]): Indices of the validation dataset to exclude from sampling.\n",
    "        number_of_samples (int): Number of samples per test dataset.\n",
    "        number_of_splits (int): Number of test datasets to generate (different seeds).\n",
    "\n",
    "    Returns:\n",
    "        List[Tuple[str, Dataset]]: List of generated test datasets with names.\n",
    "    \"\"\"\n",
    "    datasets = []\n",
    "    all_indices = set(range(len(dataset)))\n",
    "    available_indices = list(all_indices - set(train_indices) - set(val_indices))  # Exclude train and val indices\n",
    "\n",
    "    for seed in range(number_of_splits):\n",
    "        sampled_indices = available_indices[:]\n",
    "\n",
    "        sampled_dataset = dataset.select(sampled_indices)\n",
    "\n",
    "        # Add the dataset with its name\n",
    "        datasets.append((f\"test_dataset_{number_of_samples}_{seed}\", sampled_dataset))\n",
    "\n",
    "    return datasets"
   ],
   "outputs": [],
   "execution_count": 9
  },
  {
   "cell_type": "markdown",
   "id": "87bfb3346f6372cc",
   "metadata": {},
   "source": [
    "### Example usage"
   ]
  },
  {
   "cell_type": "code",
   "id": "6f8557b1a1dc6dd6",
   "metadata": {
    "ExecuteTime": {
     "end_time": "2024-12-22T12:59:09.928676Z",
     "start_time": "2024-12-22T12:59:09.925638Z"
    }
   },
   "source": [
    "# Step 1: Generate Train Dataset\n",
    "# train_datasets = generate_train_datasets(dataset, number_of_samples=30, number_of_splits=1)\n",
    "# train_name, train_dataset, train_indices = train_datasets[0]\n",
    "# print(f\"{train_name}: {len(train_dataset)} samples\")\n",
    "#\n",
    "# # Step 2: Generate Validation Dataset\n",
    "# val_datasets = generate_validation_datasets(dataset, train_indices, number_of_samples=30, number_of_splits=1)\n",
    "# val_name, val_dataset, val_indices = val_datasets[0]\n",
    "# print(f\"{val_name}: {len(val_dataset)} samples\")\n",
    "#\n",
    "# # Step 3: Generate Test Dataset\n",
    "# test_datasets = generate_test_datasets(dataset, train_indices, val_indices, number_of_samples=30, number_of_splits=1)\n",
    "# test_name, test_dataset = test_datasets[0]\n",
    "# print(f\"{test_name}: {len(test_dataset)} samples\")"
   ],
   "outputs": [],
   "execution_count": 10
  },
  {
   "cell_type": "markdown",
   "id": "b7084bbcd75432d9",
   "metadata": {},
   "source": [
    "# Prepping for training"
   ]
  },
  {
   "cell_type": "code",
   "id": "bc367cf3648c3146",
   "metadata": {
    "ExecuteTime": {
     "end_time": "2024-12-22T12:59:10.868380Z",
     "start_time": "2024-12-22T12:59:09.940799Z"
    }
   },
   "source": [
    "# Load the evaluation metric\n",
    "metric = evaluate.load(\"seqeval\")\n",
    "\n",
    "label_names = dataset.features[\"ner_tags\"].feature.names\n",
    "id2label = {i: label for i, label in enumerate(label_names)}\n",
    "label2id = {v: k for k, v in id2label.items()}"
   ],
   "outputs": [],
   "execution_count": 11
  },
  {
   "cell_type": "code",
   "id": "1f56f43a627b4076",
   "metadata": {
    "ExecuteTime": {
     "end_time": "2024-12-22T12:59:10.875735Z",
     "start_time": "2024-12-22T12:59:10.870895Z"
    }
   },
   "source": [
    "def create_dataset_given_model(tokenizer_):\n",
    "    data_collator_ = DataCollatorForTokenClassification(tokenizer=tokenizer_)\n",
    "\n",
    "    # Tokenize and align labels\n",
    "    tokenized_dataset_ = dataset.map(tokenize_and_align_labels, batched=True, remove_columns=dataset.column_names)\n",
    "\n",
    "    # Step 1: Generate Train Dataset\n",
    "    train_datasets = generate_train_datasets(tokenized_dataset_, number_of_samples=100, number_of_splits=1)\n",
    "    train_name, train_dataset, train_indices = train_datasets[0]\n",
    "    print(f\"{train_name}: {len(train_dataset)} samples\")\n",
    "\n",
    "    # Step 2: Generate Validation Dataset\n",
    "    val_datasets = generate_validation_datasets(tokenized_dataset_, train_indices, number_of_samples=100, number_of_splits=1)\n",
    "    val_name, val_dataset, val_indices = val_datasets[0]\n",
    "    print(f\"{val_name}: {len(val_dataset)} samples\")\n",
    "\n",
    "    # Step 3: Generate Test Dataset\n",
    "    test_datasets = generate_test_datasets(tokenized_dataset_, train_indices, val_indices, number_of_samples=100, number_of_splits=1)\n",
    "    test_name, test_dataset = test_datasets[0]\n",
    "    print(f\"{test_name}: {len(test_dataset)} samples\")\n",
    "\n",
    "    return data_collator_, train_dataset, val_dataset, test_dataset\n"
   ],
   "outputs": [],
   "execution_count": 12
  },
  {
   "cell_type": "code",
   "id": "2a875af61f42f00a",
   "metadata": {
    "ExecuteTime": {
     "end_time": "2024-12-22T12:59:10.887620Z",
     "start_time": "2024-12-22T12:59:10.883587Z"
    }
   },
   "source": [
    "def postprocess(predictions, labels):\n",
    "    predictions = predictions.detach().cpu().clone().numpy()\n",
    "    labels = labels.detach().cpu().clone().numpy()\n",
    "\n",
    "    # Flatten predictions and labels, removing ignored indices\n",
    "    true_labels = [label for label_seq in labels for label in label_seq if label != -100]\n",
    "    true_predictions = [pred for pred_seq, label_seq in zip(predictions, labels)\n",
    "                        for pred, label in zip(pred_seq, label_seq) if label != -100]\n",
    "    return true_labels, true_predictions\n"
   ],
   "outputs": [],
   "execution_count": 13
  },
  {
   "cell_type": "markdown",
   "id": "e30995779e545bcf",
   "metadata": {},
   "source": [
    "# Training and evaluation"
   ]
  },
  {
   "cell_type": "code",
   "id": "fa33f20959c42e46",
   "metadata": {
    "ExecuteTime": {
     "end_time": "2024-12-22T12:59:55.617631Z",
     "start_time": "2024-12-22T12:59:10.894824Z"
    }
   },
   "source": [
    "from sklearn.model_selection import ParameterGrid\n",
    "import os\n",
    "import json\n",
    "\n",
    "# Define the models and their corresponding sizes\n",
    "models = {\n",
    "    \"small\": \"bert-base-cased\",\n",
    "    \"medium\": \"bert-large-cased\",\n",
    "    \"large\": \"roberta-large\"\n",
    "}\n",
    "\n",
    "# Define hyperparameter grid\n",
    "param_grid = {\n",
    "    \"learning_rate\": [5e-6, 2e-5, 5e-5],\n",
    "    \"batch_size\": [8, 16],\n",
    "    \"weight_decay\": [0.0, 0.01]\n",
    "}\n",
    "\n",
    "device = torch.device(\"cuda\" if torch.cuda.is_available() else \"cpu\")\n",
    "\n",
    "# Loop over models\n",
    "for size, model_name in models.items():\n",
    "    print(f\"\\nTuning and evaluating {model_name} ({size})...\")\n",
    "    best_f1 = 0.0\n",
    "    best_hyperparameters = None\n",
    "    model_save_path = f\"saved_models_100/{model_name}\"\n",
    "    os.makedirs(model_save_path, exist_ok=True)\n",
    "    tokenizer = AutoTokenizer.from_pretrained(model_name)\n",
    "\n",
    "    # Hyperparameter tuning loop\n",
    "    for params in ParameterGrid(param_grid):\n",
    "        print(f\"\\nHyperparameters: {params}\")\n",
    "\n",
    "        # Create datasets and data collator for the current model\n",
    "        data_collator, tokenized_train, tokenized_val, tokenized_test = create_dataset_given_model(tokenizer)\n",
    "\n",
    "        # Create DataLoaders\n",
    "        train_dataloader = DataLoader(tokenized_train, batch_size=params[\"batch_size\"], shuffle=True, collate_fn=data_collator)\n",
    "        val_dataloader = DataLoader(tokenized_val, batch_size=params[\"batch_size\"], collate_fn=data_collator)\n",
    "        test_dataloader = DataLoader(tokenized_test, batch_size=params[\"batch_size\"], collate_fn=data_collator)\n",
    "\n",
    "        # Initialize the model for token classification\n",
    "        model = AutoModelForTokenClassification.from_pretrained(\n",
    "            model_name, id2label=id2label, label2id=label2id\n",
    "        )\n",
    "\n",
    "        # Set up optimizer and learning rate scheduler\n",
    "        optimizer = torch.optim.AdamW(\n",
    "            model.parameters(), lr=params[\"learning_rate\"], weight_decay=params[\"weight_decay\"]\n",
    "        )\n",
    "        num_train_epochs = 3\n",
    "        num_update_steps_per_epoch = len(train_dataloader)\n",
    "        num_training_steps = num_train_epochs * num_update_steps_per_epoch\n",
    "        lr_scheduler = get_scheduler(\n",
    "            \"linear\",\n",
    "            optimizer=optimizer,\n",
    "            num_warmup_steps=0,\n",
    "            num_training_steps=num_training_steps\n",
    "        )\n",
    "\n",
    "        # Use the accelerator for distributed training\n",
    "        accelerator = Accelerator()\n",
    "        model, optimizer, train_dataloader, val_dataloader = accelerator.prepare(\n",
    "            model, optimizer, train_dataloader, val_dataloader\n",
    "        )\n",
    "\n",
    "        # Training loop\n",
    "        for epoch in range(num_train_epochs):\n",
    "            print(f\"Epoch {epoch + 1}/{num_train_epochs}\")\n",
    "            model.train()\n",
    "            total_loss = 0\n",
    "            progress_bar = tqdm(train_dataloader, desc=f\"Training Epoch {epoch+1}\")\n",
    "            for batch in progress_bar:\n",
    "                # Move batch data to the same device as the model\n",
    "                batch = {k: v.to(device) for k, v in batch.items()}\n",
    "                outputs = model(**batch)\n",
    "                loss = outputs.loss\n",
    "                total_loss += loss.item()\n",
    "\n",
    "                accelerator.backward(loss)\n",
    "                optimizer.step()\n",
    "                lr_scheduler.step()\n",
    "                optimizer.zero_grad()\n",
    "\n",
    "                progress_bar.set_postfix(loss=loss.item())\n",
    "\n",
    "            print(f\"Epoch {epoch + 1} Loss: {total_loss:.4f}\")\n",
    "\n",
    "            # Validation loop\n",
    "            model.eval()\n",
    "            val_predictions, val_labels = [], []\n",
    "            with torch.no_grad():\n",
    "                for batch in val_dataloader:\n",
    "                    # Move batch data to the same device as the model\n",
    "                    batch = {k: v.to(device) for k, v in batch.items()}\n",
    "                    outputs = model(**batch)\n",
    "                    logits = outputs.logits\n",
    "                    predictions = logits.argmax(dim=-1)\n",
    "                    labels = batch[\"labels\"]\n",
    "\n",
    "                    # Handle padding across processes for multi-GPU\n",
    "                    predictions = accelerator.pad_across_processes(predictions, dim=1, pad_index=-100)\n",
    "                    labels = accelerator.pad_across_processes(labels, dim=1, pad_index=-100)\n",
    "\n",
    "                    predictions_gathered = accelerator.gather(predictions)\n",
    "                    labels_gathered = accelerator.gather(labels)\n",
    "\n",
    "                    # Postprocess to get flattened labels and predictions\n",
    "                    flat_labels, flat_predictions = postprocess(predictions_gathered, labels_gathered)\n",
    "                    val_labels.extend(flat_labels)\n",
    "                    val_predictions.extend(flat_predictions)\n",
    "\n",
    "            # Calculate validation metrics\n",
    "            precision, recall, f1, _ = precision_recall_fscore_support(\n",
    "                val_labels, val_predictions, average=\"micro\"  # 'micro' aggregates across all classes\n",
    "            )\n",
    "            print(f\"Validation Metrics (Precision: {precision:.4f}, Recall: {recall:.4f}, F1: {f1:.4f})\")\n",
    "\n",
    "        # Test loop for evaluation after training\n",
    "        model.eval()\n",
    "        test_predictions, test_labels = [], []\n",
    "        with torch.no_grad():\n",
    "            for batch in test_dataloader:\n",
    "                # Move batch data to the same device as the model\n",
    "                batch = {k: v.to(device) for k, v in batch.items()}\n",
    "                outputs = model(**batch)\n",
    "                logits = outputs.logits\n",
    "                predictions = logits.argmax(dim=-1)\n",
    "                labels = batch[\"labels\"]\n",
    "\n",
    "                # Handle padding across processes for multi-GPU\n",
    "                predictions = accelerator.pad_across_processes(predictions, dim=1, pad_index=-100)\n",
    "                labels = accelerator.pad_across_processes(labels, dim=1, pad_index=-100)\n",
    "\n",
    "                predictions_gathered = accelerator.gather(predictions)\n",
    "                labels_gathered = accelerator.gather(labels)\n",
    "\n",
    "                # Postprocess to get flattened labels and predictions\n",
    "                flat_labels, flat_predictions = postprocess(predictions_gathered, labels_gathered)\n",
    "                test_labels.extend(flat_labels)\n",
    "                test_predictions.extend(flat_predictions)\n",
    "\n",
    "        # Calculate test metrics\n",
    "        precision, recall, f1, _ = precision_recall_fscore_support(\n",
    "            test_labels, test_predictions, average=\"micro\"  # 'micro' aggregates across all classes\n",
    "        )\n",
    "        print(f\"Test Metrics (Precision: {precision:.4f}, Recall: {recall:.4f}, F1: {f1:.4f})\")\n",
    "\n",
    "        # Save the best model based on test F1-score\n",
    "        if f1 > best_f1:\n",
    "            print(f\"New best model found for {model_name} with F1: {f1:.4f}\")\n",
    "            best_f1 = f1\n",
    "            best_hyperparameters = params\n",
    "\n",
    "            # Overwrite the saved model\n",
    "            accelerator.unwrap_model(model).save_pretrained(model_save_path)\n",
    "            tokenizer.save_pretrained(model_save_path)\n",
    "\n",
    "            # Save the best hyperparameters to a JSON file in the model's folder\n",
    "            best_config_path = os.path.join(model_save_path, \"best_config.json\")\n",
    "            with open(best_config_path, \"w\") as f:\n",
    "                json.dump({\n",
    "                    \"best_hyperparameters\": best_hyperparameters,\n",
    "                    \"best_f1\": best_f1\n",
    "                }, f, indent=4)\n",
    "\n",
    "    print(f\"\\nBest Model for {model_name} ({size}): {model_save_path}\")\n",
    "    print(f\"Best Hyperparameters: {best_hyperparameters}\")\n",
    "    print(f\"Best F1-Score: {best_f1:.4f}\") \n"
   ],
   "outputs": [
    {
     "name": "stdout",
     "output_type": "stream",
     "text": [
      "\n",
      "Tuning and evaluating bert-base-cased (small)...\n",
      "\n",
      "Hyperparameters: {'batch_size': 8, 'learning_rate': 5e-06, 'weight_decay': 0.0}\n"
     ]
    },
    {
     "name": "stderr",
     "output_type": "stream",
     "text": [
      "Map: 100%|██████████| 1248/1248 [00:00<00:00, 3355.63 examples/s]\n"
     ]
    },
    {
     "name": "stdout",
     "output_type": "stream",
     "text": [
      "train_dataset_100_0: 100 samples\n",
      "val_dataset_100_0: 100 samples\n",
      "test_dataset_100_0: 1048 samples\n"
     ]
    },
    {
     "name": "stderr",
     "output_type": "stream",
     "text": [
      "Some weights of BertForTokenClassification were not initialized from the model checkpoint at bert-base-cased and are newly initialized: ['classifier.bias', 'classifier.weight']\n",
      "You should probably TRAIN this model on a down-stream task to be able to use it for predictions and inference.\n"
     ]
    },
    {
     "name": "stdout",
     "output_type": "stream",
     "text": [
      "Epoch 1/3\n"
     ]
    },
    {
     "name": "stderr",
     "output_type": "stream",
     "text": [
      "Training Epoch 1: 100%|██████████| 13/13 [00:03<00:00,  3.52it/s, loss=1.73]\n"
     ]
    },
    {
     "name": "stdout",
     "output_type": "stream",
     "text": [
      "Epoch 1 Loss: 26.5662\n",
      "Validation Metrics (Precision: 0.7703, Recall: 0.7703, F1: 0.7703)\n",
      "Epoch 2/3\n"
     ]
    },
    {
     "name": "stderr",
     "output_type": "stream",
     "text": [
      "Training Epoch 2: 100%|██████████| 13/13 [00:03<00:00,  4.11it/s, loss=1.51]\n"
     ]
    },
    {
     "name": "stdout",
     "output_type": "stream",
     "text": [
      "Epoch 2 Loss: 20.7272\n",
      "Validation Metrics (Precision: 0.7840, Recall: 0.7840, F1: 0.7840)\n",
      "Epoch 3/3\n"
     ]
    },
    {
     "name": "stderr",
     "output_type": "stream",
     "text": [
      "Training Epoch 3: 100%|██████████| 13/13 [00:03<00:00,  3.92it/s, loss=1.31]\n"
     ]
    },
    {
     "name": "stdout",
     "output_type": "stream",
     "text": [
      "Epoch 3 Loss: 17.9460\n",
      "Validation Metrics (Precision: 0.7843, Recall: 0.7843, F1: 0.7843)\n",
      "Test Metrics (Precision: 0.7758, Recall: 0.7758, F1: 0.7758)\n",
      "New best model found for bert-base-cased with F1: 0.7758\n",
      "\n",
      "Hyperparameters: {'batch_size': 8, 'learning_rate': 5e-06, 'weight_decay': 0.01}\n"
     ]
    },
    {
     "name": "stderr",
     "output_type": "stream",
     "text": [
      "Map: 100%|██████████| 1248/1248 [00:00<00:00, 4860.26 examples/s]\n",
      "Some weights of BertForTokenClassification were not initialized from the model checkpoint at bert-base-cased and are newly initialized: ['classifier.bias', 'classifier.weight']\n",
      "You should probably TRAIN this model on a down-stream task to be able to use it for predictions and inference.\n"
     ]
    },
    {
     "name": "stdout",
     "output_type": "stream",
     "text": [
      "train_dataset_100_0: 100 samples\n",
      "val_dataset_100_0: 100 samples\n",
      "test_dataset_100_0: 1048 samples\n",
      "Epoch 1/3\n"
     ]
    },
    {
     "name": "stderr",
     "output_type": "stream",
     "text": [
      "Training Epoch 1: 100%|██████████| 13/13 [00:03<00:00,  3.87it/s, loss=1.59]\n"
     ]
    },
    {
     "name": "stdout",
     "output_type": "stream",
     "text": [
      "Epoch 1 Loss: 24.4664\n",
      "Validation Metrics (Precision: 0.7775, Recall: 0.7775, F1: 0.7775)\n",
      "Epoch 2/3\n"
     ]
    },
    {
     "name": "stderr",
     "output_type": "stream",
     "text": [
      "Training Epoch 2: 100%|██████████| 13/13 [00:03<00:00,  4.03it/s, loss=1.52]\n"
     ]
    },
    {
     "name": "stdout",
     "output_type": "stream",
     "text": [
      "Epoch 2 Loss: 18.1414\n",
      "Validation Metrics (Precision: 0.7829, Recall: 0.7829, F1: 0.7829)\n",
      "Epoch 3/3\n"
     ]
    },
    {
     "name": "stderr",
     "output_type": "stream",
     "text": [
      "Training Epoch 3: 100%|██████████| 13/13 [00:03<00:00,  3.80it/s, loss=1.21] \n"
     ]
    },
    {
     "name": "stdout",
     "output_type": "stream",
     "text": [
      "Epoch 3 Loss: 14.8940\n",
      "Validation Metrics (Precision: 0.7839, Recall: 0.7839, F1: 0.7839)\n"
     ]
    },
    {
     "ename": "KeyboardInterrupt",
     "evalue": "",
     "output_type": "error",
     "traceback": [
      "\u001B[1;31m---------------------------------------------------------------------------\u001B[0m",
      "\u001B[1;31mKeyboardInterrupt\u001B[0m                         Traceback (most recent call last)",
      "Cell \u001B[1;32mIn[14], line 132\u001B[0m\n\u001B[0;32m    129\u001B[0m labels \u001B[38;5;241m=\u001B[39m batch[\u001B[38;5;124m\"\u001B[39m\u001B[38;5;124mlabels\u001B[39m\u001B[38;5;124m\"\u001B[39m]\n\u001B[0;32m    131\u001B[0m \u001B[38;5;66;03m# Handle padding across processes for multi-GPU\u001B[39;00m\n\u001B[1;32m--> 132\u001B[0m predictions \u001B[38;5;241m=\u001B[39m \u001B[43maccelerator\u001B[49m\u001B[38;5;241;43m.\u001B[39;49m\u001B[43mpad_across_processes\u001B[49m\u001B[43m(\u001B[49m\u001B[43mpredictions\u001B[49m\u001B[43m,\u001B[49m\u001B[43m \u001B[49m\u001B[43mdim\u001B[49m\u001B[38;5;241;43m=\u001B[39;49m\u001B[38;5;241;43m1\u001B[39;49m\u001B[43m,\u001B[49m\u001B[43m \u001B[49m\u001B[43mpad_index\u001B[49m\u001B[38;5;241;43m=\u001B[39;49m\u001B[38;5;241;43m-\u001B[39;49m\u001B[38;5;241;43m100\u001B[39;49m\u001B[43m)\u001B[49m\n\u001B[0;32m    133\u001B[0m labels \u001B[38;5;241m=\u001B[39m accelerator\u001B[38;5;241m.\u001B[39mpad_across_processes(labels, dim\u001B[38;5;241m=\u001B[39m\u001B[38;5;241m1\u001B[39m, pad_index\u001B[38;5;241m=\u001B[39m\u001B[38;5;241m-\u001B[39m\u001B[38;5;241m100\u001B[39m)\n\u001B[0;32m    135\u001B[0m predictions_gathered \u001B[38;5;241m=\u001B[39m accelerator\u001B[38;5;241m.\u001B[39mgather(predictions)\n",
      "File \u001B[1;32mD:\\Users\\Rajiv\\Desktop\\Leiden university\\Master\\Text mining\\Assignments\\Final\\text-mining-final\\.venv\\Lib\\site-packages\\accelerate\\accelerator.py:2602\u001B[0m, in \u001B[0;36mAccelerator.pad_across_processes\u001B[1;34m(self, tensor, dim, pad_index, pad_first)\u001B[0m\n\u001B[0;32m   2569\u001B[0m \u001B[38;5;28;01mdef\u001B[39;00m \u001B[38;5;21mpad_across_processes\u001B[39m(\u001B[38;5;28mself\u001B[39m, tensor, dim\u001B[38;5;241m=\u001B[39m\u001B[38;5;241m0\u001B[39m, pad_index\u001B[38;5;241m=\u001B[39m\u001B[38;5;241m0\u001B[39m, pad_first\u001B[38;5;241m=\u001B[39m\u001B[38;5;28;01mFalse\u001B[39;00m):\n\u001B[0;32m   2570\u001B[0m \u001B[38;5;250m    \u001B[39m\u001B[38;5;124;03m\"\"\"\u001B[39;00m\n\u001B[0;32m   2571\u001B[0m \u001B[38;5;124;03m    Recursively pad the tensors in a nested list/tuple/dictionary of tensors from all devices to the same size so\u001B[39;00m\n\u001B[0;32m   2572\u001B[0m \u001B[38;5;124;03m    they can safely be gathered.\u001B[39;00m\n\u001B[1;32m   (...)\u001B[0m\n\u001B[0;32m   2600\u001B[0m \u001B[38;5;124;03m    ```\u001B[39;00m\n\u001B[0;32m   2601\u001B[0m \u001B[38;5;124;03m    \"\"\"\u001B[39;00m\n\u001B[1;32m-> 2602\u001B[0m     \u001B[38;5;28;01mreturn\u001B[39;00m \u001B[43mpad_across_processes\u001B[49m\u001B[43m(\u001B[49m\u001B[43mtensor\u001B[49m\u001B[43m,\u001B[49m\u001B[43m \u001B[49m\u001B[43mdim\u001B[49m\u001B[38;5;241;43m=\u001B[39;49m\u001B[43mdim\u001B[49m\u001B[43m,\u001B[49m\u001B[43m \u001B[49m\u001B[43mpad_index\u001B[49m\u001B[38;5;241;43m=\u001B[39;49m\u001B[43mpad_index\u001B[49m\u001B[43m,\u001B[49m\u001B[43m \u001B[49m\u001B[43mpad_first\u001B[49m\u001B[38;5;241;43m=\u001B[39;49m\u001B[43mpad_first\u001B[49m\u001B[43m)\u001B[49m\n",
      "File \u001B[1;32mD:\\Users\\Rajiv\\Desktop\\Leiden university\\Master\\Text mining\\Assignments\\Final\\text-mining-final\\.venv\\Lib\\site-packages\\accelerate\\utils\\operations.py:412\u001B[0m, in \u001B[0;36mchained_operation.<locals>.wrapper\u001B[1;34m(*args, **kwargs)\u001B[0m\n\u001B[0;32m    409\u001B[0m \u001B[38;5;129m@wraps\u001B[39m(function)\n\u001B[0;32m    410\u001B[0m \u001B[38;5;28;01mdef\u001B[39;00m \u001B[38;5;21mwrapper\u001B[39m(\u001B[38;5;241m*\u001B[39margs, \u001B[38;5;241m*\u001B[39m\u001B[38;5;241m*\u001B[39mkwargs):\n\u001B[0;32m    411\u001B[0m     \u001B[38;5;28;01mtry\u001B[39;00m:\n\u001B[1;32m--> 412\u001B[0m         \u001B[38;5;28;01mreturn\u001B[39;00m \u001B[43mfunction\u001B[49m\u001B[43m(\u001B[49m\u001B[38;5;241;43m*\u001B[39;49m\u001B[43margs\u001B[49m\u001B[43m,\u001B[49m\u001B[43m \u001B[49m\u001B[38;5;241;43m*\u001B[39;49m\u001B[38;5;241;43m*\u001B[39;49m\u001B[43mkwargs\u001B[49m\u001B[43m)\u001B[49m\n\u001B[0;32m    413\u001B[0m     \u001B[38;5;28;01mexcept\u001B[39;00m DistributedOperationException \u001B[38;5;28;01mas\u001B[39;00m e:\n\u001B[0;32m    414\u001B[0m         operation \u001B[38;5;241m=\u001B[39m \u001B[38;5;124mf\u001B[39m\u001B[38;5;124m\"\u001B[39m\u001B[38;5;132;01m{\u001B[39;00mfunction\u001B[38;5;241m.\u001B[39m\u001B[38;5;18m__module__\u001B[39m\u001B[38;5;132;01m}\u001B[39;00m\u001B[38;5;124m.\u001B[39m\u001B[38;5;132;01m{\u001B[39;00mfunction\u001B[38;5;241m.\u001B[39m\u001B[38;5;18m__name__\u001B[39m\u001B[38;5;132;01m}\u001B[39;00m\u001B[38;5;124m\"\u001B[39m\n",
      "File \u001B[1;32mD:\\Users\\Rajiv\\Desktop\\Leiden university\\Master\\Text mining\\Assignments\\Final\\text-mining-final\\.venv\\Lib\\site-packages\\accelerate\\utils\\operations.py:682\u001B[0m, in \u001B[0;36mpad_across_processes\u001B[1;34m(tensor, dim, pad_index, pad_first)\u001B[0m\n\u001B[0;32m    679\u001B[0m     new_tensor[indices] \u001B[38;5;241m=\u001B[39m tensor\n\u001B[0;32m    680\u001B[0m     \u001B[38;5;28;01mreturn\u001B[39;00m new_tensor\n\u001B[1;32m--> 682\u001B[0m \u001B[38;5;28;01mreturn\u001B[39;00m \u001B[43mrecursively_apply\u001B[49m\u001B[43m(\u001B[49m\n\u001B[0;32m    683\u001B[0m \u001B[43m    \u001B[49m\u001B[43m_pad_across_processes\u001B[49m\u001B[43m,\u001B[49m\u001B[43m \u001B[49m\u001B[43mtensor\u001B[49m\u001B[43m,\u001B[49m\u001B[43m \u001B[49m\u001B[43merror_on_other_type\u001B[49m\u001B[38;5;241;43m=\u001B[39;49m\u001B[38;5;28;43;01mTrue\u001B[39;49;00m\u001B[43m,\u001B[49m\u001B[43m \u001B[49m\u001B[43mdim\u001B[49m\u001B[38;5;241;43m=\u001B[39;49m\u001B[43mdim\u001B[49m\u001B[43m,\u001B[49m\u001B[43m \u001B[49m\u001B[43mpad_index\u001B[49m\u001B[38;5;241;43m=\u001B[39;49m\u001B[43mpad_index\u001B[49m\u001B[43m,\u001B[49m\u001B[43m \u001B[49m\u001B[43mpad_first\u001B[49m\u001B[38;5;241;43m=\u001B[39;49m\u001B[43mpad_first\u001B[49m\n\u001B[0;32m    684\u001B[0m \u001B[43m\u001B[49m\u001B[43m)\u001B[49m\n",
      "File \u001B[1;32mD:\\Users\\Rajiv\\Desktop\\Leiden university\\Master\\Text mining\\Assignments\\Final\\text-mining-final\\.venv\\Lib\\site-packages\\accelerate\\utils\\operations.py:127\u001B[0m, in \u001B[0;36mrecursively_apply\u001B[1;34m(func, data, test_type, error_on_other_type, *args, **kwargs)\u001B[0m\n\u001B[0;32m    118\u001B[0m     \u001B[38;5;28;01mreturn\u001B[39;00m \u001B[38;5;28mtype\u001B[39m(data)(\n\u001B[0;32m    119\u001B[0m         {\n\u001B[0;32m    120\u001B[0m             k: recursively_apply(\n\u001B[1;32m   (...)\u001B[0m\n\u001B[0;32m    124\u001B[0m         }\n\u001B[0;32m    125\u001B[0m     )\n\u001B[0;32m    126\u001B[0m \u001B[38;5;28;01melif\u001B[39;00m test_type(data):\n\u001B[1;32m--> 127\u001B[0m     \u001B[38;5;28;01mreturn\u001B[39;00m \u001B[43mfunc\u001B[49m\u001B[43m(\u001B[49m\u001B[43mdata\u001B[49m\u001B[43m,\u001B[49m\u001B[43m \u001B[49m\u001B[38;5;241;43m*\u001B[39;49m\u001B[43margs\u001B[49m\u001B[43m,\u001B[49m\u001B[43m \u001B[49m\u001B[38;5;241;43m*\u001B[39;49m\u001B[38;5;241;43m*\u001B[39;49m\u001B[43mkwargs\u001B[49m\u001B[43m)\u001B[49m\n\u001B[0;32m    128\u001B[0m \u001B[38;5;28;01melif\u001B[39;00m error_on_other_type:\n\u001B[0;32m    129\u001B[0m     \u001B[38;5;28;01mraise\u001B[39;00m \u001B[38;5;167;01mTypeError\u001B[39;00m(\n\u001B[0;32m    130\u001B[0m         \u001B[38;5;124mf\u001B[39m\u001B[38;5;124m\"\u001B[39m\u001B[38;5;124mUnsupported types (\u001B[39m\u001B[38;5;132;01m{\u001B[39;00m\u001B[38;5;28mtype\u001B[39m(data)\u001B[38;5;132;01m}\u001B[39;00m\u001B[38;5;124m) passed to `\u001B[39m\u001B[38;5;132;01m{\u001B[39;00mfunc\u001B[38;5;241m.\u001B[39m\u001B[38;5;18m__name__\u001B[39m\u001B[38;5;132;01m}\u001B[39;00m\u001B[38;5;124m`. Only nested list/tuple/dicts of \u001B[39m\u001B[38;5;124m\"\u001B[39m\n\u001B[0;32m    131\u001B[0m         \u001B[38;5;124mf\u001B[39m\u001B[38;5;124m\"\u001B[39m\u001B[38;5;124mobjects that are valid for `\u001B[39m\u001B[38;5;132;01m{\u001B[39;00mtest_type\u001B[38;5;241m.\u001B[39m\u001B[38;5;18m__name__\u001B[39m\u001B[38;5;132;01m}\u001B[39;00m\u001B[38;5;124m` should be passed.\u001B[39m\u001B[38;5;124m\"\u001B[39m\n\u001B[0;32m    132\u001B[0m     )\n",
      "File \u001B[1;32mD:\\Users\\Rajiv\\Desktop\\Leiden university\\Master\\Text mining\\Assignments\\Final\\text-mining-final\\.venv\\Lib\\site-packages\\accelerate\\utils\\operations.py:662\u001B[0m, in \u001B[0;36mpad_across_processes.<locals>._pad_across_processes\u001B[1;34m(tensor, dim, pad_index, pad_first)\u001B[0m\n\u001B[0;32m    659\u001B[0m     dim \u001B[38;5;241m+\u001B[39m\u001B[38;5;241m=\u001B[39m \u001B[38;5;28mlen\u001B[39m(tensor\u001B[38;5;241m.\u001B[39mshape)\n\u001B[0;32m    661\u001B[0m \u001B[38;5;66;03m# Gather all sizes\u001B[39;00m\n\u001B[1;32m--> 662\u001B[0m size \u001B[38;5;241m=\u001B[39m \u001B[43mtorch\u001B[49m\u001B[38;5;241;43m.\u001B[39;49m\u001B[43mtensor\u001B[49m\u001B[43m(\u001B[49m\u001B[43mtensor\u001B[49m\u001B[38;5;241;43m.\u001B[39;49m\u001B[43mshape\u001B[49m\u001B[43m,\u001B[49m\u001B[43m \u001B[49m\u001B[43mdevice\u001B[49m\u001B[38;5;241;43m=\u001B[39;49m\u001B[43mtensor\u001B[49m\u001B[38;5;241;43m.\u001B[39;49m\u001B[43mdevice\u001B[49m\u001B[43m)\u001B[49m[\u001B[38;5;28;01mNone\u001B[39;00m]\n\u001B[0;32m    663\u001B[0m sizes \u001B[38;5;241m=\u001B[39m gather(size)\u001B[38;5;241m.\u001B[39mcpu()\n\u001B[0;32m    664\u001B[0m \u001B[38;5;66;03m# Then pad to the maximum size\u001B[39;00m\n",
      "\u001B[1;31mKeyboardInterrupt\u001B[0m: "
     ]
    }
   ],
   "execution_count": 14
  }
 ],
 "metadata": {
  "kernelspec": {
   "display_name": "pyenv",
   "language": "python",
   "name": "python3"
  },
  "language_info": {
   "codemirror_mode": {
    "name": "ipython",
    "version": 3
   },
   "file_extension": ".py",
   "mimetype": "text/x-python",
   "name": "python",
   "nbconvert_exporter": "python",
   "pygments_lexer": "ipython3",
   "version": "3.12.2"
  }
 },
 "nbformat": 4,
 "nbformat_minor": 5
}
