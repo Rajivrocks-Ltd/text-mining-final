{
 "cells": [
  {
   "cell_type": "code",
   "id": "initial_id",
   "metadata": {
    "collapsed": true,
    "ExecuteTime": {
     "end_time": "2024-12-22T15:37:16.707364Z",
     "start_time": "2024-12-22T15:37:16.703335Z"
    }
   },
   "source": [
    "import re\n",
    "import random\n",
    "import os\n",
    "import json\n",
    "import evaluate\n",
    "\n",
    "from transformers import AutoTokenizer, AutoModelForTokenClassification, get_scheduler, RobertaTokenizerFast\n",
    "from transformers import DataCollatorForTokenClassification\n",
    "from datasets import Dataset, DatasetDict, Features, Sequence, Value, ClassLabel\n",
    "\n",
    "from sklearn.model_selection import ParameterGrid\n",
    "from sklearn.metrics import precision_recall_fscore_support\n",
    "\n",
    "import torch\n",
    "from torch.utils.data import DataLoader\n",
    "from accelerate import Accelerator\n",
    "from tqdm import tqdm"
   ],
   "outputs": [],
   "execution_count": 15
  },
  {
   "metadata": {},
   "cell_type": "markdown",
   "source": "## Combine all .txt and .ann files and combine them per medicine",
   "id": "6fcf0ba874e901ac"
  },
  {
   "metadata": {
    "ExecuteTime": {
     "end_time": "2024-12-22T15:37:17.109532Z",
     "start_time": "2024-12-22T15:37:16.742755Z"
    }
   },
   "cell_type": "code",
   "source": [
    "# Base folders containing annotation and text files\n",
    "annotations_folder = 'annotations/'\n",
    "original_texts_folder = 'originaltexts/'\n",
    "output_folder = 'output_datasets/'\n",
    "os.makedirs(output_folder, exist_ok=True)\n",
    "\n",
    "# Group files by medicine\n",
    "file_groups = {}\n",
    "for file_name in os.listdir(annotations_folder):\n",
    "    if file_name.endswith('.ann'):\n",
    "        base_name = '.'.join(file_name.split('.')[:-1])\n",
    "        medicine = base_name.rsplit('.', 1)[0]\n",
    "        file_groups.setdefault(medicine, []).append(file_name)\n",
    "\n",
    "# Process each group\n",
    "for medicine, ann_files in file_groups.items():\n",
    "    combined_output = []\n",
    "\n",
    "    for ann_file in ann_files:\n",
    "        txt_file = ann_file.replace('.ann', '.txt')\n",
    "        txt_path = os.path.join(original_texts_folder, txt_file)\n",
    "        ann_path = os.path.join(annotations_folder, ann_file)\n",
    "\n",
    "        # Ensure the corresponding .txt file exists\n",
    "        if not os.path.exists(txt_path):\n",
    "            raise FileNotFoundError(f\"Text file not found for annotation file {ann_file}\")\n",
    "\n",
    "        # Read the content of the .ann and .txt files\n",
    "        with open(ann_path, 'r') as ann_f:\n",
    "            ann_lines = ann_f.readlines()\n",
    "\n",
    "        with open(txt_path, 'r') as txt_f:\n",
    "            txt_content = txt_f.read()\n",
    "\n",
    "        # Parse annotations and filter out AnnotatorNotes\n",
    "        annotations = []\n",
    "        for line in ann_lines:\n",
    "            if line.startswith('T'):\n",
    "                parts = line.strip().split('\\t')\n",
    "                if len(parts) == 3:\n",
    "                    tag_info, word = parts[1], parts[2]\n",
    "                    tag_parts = tag_info.split()\n",
    "                    if len(tag_parts) >= 3:\n",
    "                        tag = tag_parts[0]\n",
    "                        try:\n",
    "                            start_idx = int(tag_parts[1])\n",
    "                            end_idx = int(tag_parts[2])\n",
    "                        except ValueError:\n",
    "                            if ';' in tag_parts[2]:  # Handle ranges like '742;763'\n",
    "                                start_idx = int(tag_parts[1])\n",
    "                                end_idx = int(tag_parts[2].split(';')[-1])\n",
    "                            else:\n",
    "                                raise ValueError(f\"Unexpected annotation format: {tag_parts}\")\n",
    "                        annotations.append((start_idx, end_idx, tag, word))\n",
    "\n",
    "        # Sort annotations by start index\n",
    "        annotations.sort(key=lambda x: x[0])\n",
    "\n",
    "        # Generate output format\n",
    "        output = []\n",
    "        current_idx = 0\n",
    "        for start_idx, end_idx, tag, word in annotations:\n",
    "            # Add text between the last annotation and the current annotation as \"O\"\n",
    "            if current_idx < start_idx:\n",
    "                intervening_text = txt_content[current_idx:start_idx]\n",
    "                for token in re.findall(r\"\\w+(?:'\\w+)?|[.,!?]\", intervening_text):\n",
    "                    output.append(f\"{token} O\")\n",
    "\n",
    "            # Add the annotated word with its tag\n",
    "            for i, token in enumerate(word.split()):\n",
    "                tag_prefix = 'B-' if i == 0 else 'I-'\n",
    "                output.append(f\"{token} {tag_prefix}{tag}\")\n",
    "\n",
    "            current_idx = end_idx\n",
    "\n",
    "        # Add remaining text as \"O\"\n",
    "        if current_idx < len(txt_content):\n",
    "            remaining_text = txt_content[current_idx:]\n",
    "            for token in re.findall(r\"\\w+(?:'\\w+)?|[.,!?]\", remaining_text):\n",
    "                output.append(f\"{token} O\")\n",
    "\n",
    "        # Add to combined output with a newline separator\n",
    "        combined_output.extend(output)\n",
    "        combined_output.append('')  # Empty line between posts\n",
    "\n",
    "    # Write combined output to file\n",
    "    combined_output_text = '\\n'.join(combined_output).strip()\n",
    "    output_file = os.path.join(output_folder, f\"{medicine}_combined_output.txt\")\n",
    "    with open(output_file, 'w') as out_f:\n",
    "        out_f.write(combined_output_text)\n",
    "\n",
    "    print(f\"Combined output saved for {medicine} in {output_file}\")"
   ],
   "id": "aa71104cf543fea",
   "outputs": [
    {
     "name": "stdout",
     "output_type": "stream",
     "text": [
      "Combined output saved for ARTHROTEC in output_datasets/ARTHROTEC_combined_output.txt\n",
      "Combined output saved for CAMBIA in output_datasets/CAMBIA_combined_output.txt\n",
      "Combined output saved for CATAFLAM in output_datasets/CATAFLAM_combined_output.txt\n",
      "Combined output saved for DICLOFENAC-POTASSIUM in output_datasets/DICLOFENAC-POTASSIUM_combined_output.txt\n",
      "Combined output saved for DICLOFENAC-SODIUM in output_datasets/DICLOFENAC-SODIUM_combined_output.txt\n",
      "Combined output saved for FLECTOR in output_datasets/FLECTOR_combined_output.txt\n",
      "Combined output saved for LIPITOR in output_datasets/LIPITOR_combined_output.txt\n",
      "Combined output saved for PENNSAID in output_datasets/PENNSAID_combined_output.txt\n",
      "Combined output saved for SOLARAZE in output_datasets/SOLARAZE_combined_output.txt\n",
      "Combined output saved for VOLTAREN-XR in output_datasets/VOLTAREN-XR_combined_output.txt\n",
      "Combined output saved for VOLTAREN in output_datasets/VOLTAREN_combined_output.txt\n",
      "Combined output saved for ZIPSOR in output_datasets/ZIPSOR_combined_output.txt\n"
     ]
    }
   ],
   "execution_count": 16
  },
  {
   "metadata": {},
   "cell_type": "markdown",
   "source": "## Combine all the medicine files into one dataset",
   "id": "806f757861e7d38d"
  },
  {
   "metadata": {
    "ExecuteTime": {
     "end_time": "2024-12-22T15:37:17.135591Z",
     "start_time": "2024-12-22T15:37:17.117583Z"
    }
   },
   "cell_type": "code",
   "source": [
    "# Folder containing all combined output files\n",
    "output_datasets_folder = 'output_datasets/'\n",
    "final_output_file = 'final_dataset.txt'\n",
    "\n",
    "# Ensure the folder exists\n",
    "if not os.path.exists(output_datasets_folder):\n",
    "    raise FileNotFoundError(f\"The folder {output_datasets_folder} does not exist.\")\n",
    "\n",
    "# List all files in the folder\n",
    "output_files = [f for f in os.listdir(output_datasets_folder) if f.endswith('_combined_output.txt')]\n",
    "\n",
    "# Combine all files into a single final dataset\n",
    "final_dataset = []\n",
    "for file_name in output_files:\n",
    "    file_path = os.path.join(output_datasets_folder, file_name)\n",
    "    with open(file_path, 'r') as f:\n",
    "        content = f.read().strip()  # Read and strip any trailing spaces or newlines\n",
    "        final_dataset.append(content)\n",
    "\n",
    "    # Add an empty line to separate posts from different files\n",
    "    final_dataset.append('')\n",
    "\n",
    "# Write the combined dataset to the final output file\n",
    "with open(final_output_file, 'w') as f:\n",
    "    f.write('\\n'.join(final_dataset).strip())  # Ensure no extra trailing newline\n",
    "\n",
    "print(f\"Final dataset saved to {final_output_file}\")"
   ],
   "id": "f940e15d9430fc7b",
   "outputs": [
    {
     "name": "stdout",
     "output_type": "stream",
     "text": [
      "Final dataset saved to final_dataset.txt\n"
     ]
    }
   ],
   "execution_count": 17
  },
  {
   "metadata": {},
   "cell_type": "markdown",
   "source": "## Read the final dataset into the Iob dataset format",
   "id": "3269e1b5930cd4c4"
  },
  {
   "metadata": {
    "ExecuteTime": {
     "end_time": "2024-12-22T15:37:17.170479Z",
     "start_time": "2024-12-22T15:37:17.164749Z"
    }
   },
   "cell_type": "code",
   "source": [
    "def read_iob_file(file_path):\n",
    "    \"\"\"Reads an IOB file from filepath and returns sentences with tokens and tags.\"\"\"\n",
    "    sentences = []\n",
    "    sentence_tokens = []\n",
    "    sentence_labels = []\n",
    "\n",
    "    with open(file_path, \"r\", encoding=\"utf-8\") as file:\n",
    "        for line in file:\n",
    "            line = line.strip()\n",
    "            if line:  # If line is not empty\n",
    "                token, tag = line.split()\n",
    "                sentence_tokens.append(token)\n",
    "                sentence_labels.append(tag)\n",
    "\n",
    "            else:\n",
    "                # End of a sentence\n",
    "                if sentence_tokens:\n",
    "                    sentences.append({\"tokens\": sentence_tokens, \"ner_tags\": sentence_labels})\n",
    "                    sentence_tokens = []\n",
    "                    sentence_labels = []\n",
    "        # Add the last sentence if file doesn't end with a newline\n",
    "        if sentence_tokens:\n",
    "            sentences.append({\"tokens\": sentence_tokens, \"ner_tags\": sentence_labels})\n",
    "    return sentences\n",
    "\n",
    "def create_dataset_from_final_file(final_file_path):\n",
    "    \"\"\"Create a dataset from a single IOB file and return it as a DatasetDict.\"\"\"\n",
    "\n",
    "    if not os.path.exists(final_file_path):\n",
    "        raise FileNotFoundError(f\"The file {final_file_path} does not exist.\")\n",
    "\n",
    "    # Parse the file\n",
    "    data = read_iob_file(final_file_path)\n",
    "\n",
    "    # Define the label names and ClassLabel feature\n",
    "    unique_labels = sorted(set(tag for d in data for tag in d[\"ner_tags\"]))\n",
    "    label_feature = ClassLabel(names=unique_labels)\n",
    "\n",
    "    # Define the Features schema for Hugging Face datasets\n",
    "    features = Features({\n",
    "        'tokens': Sequence(Value(\"string\")),\n",
    "        'ner_tags': Sequence(label_feature)\n",
    "    })\n",
    "\n",
    "    # Convert data into a Dataset\n",
    "    dataset = Dataset.from_list(data).cast(features)\n",
    "\n",
    "    # Create a DatasetDict\n",
    "    dataset_dict = DatasetDict({\"full_data\": dataset})\n",
    "\n",
    "    return dataset_dict\n"
   ],
   "id": "435d59ec1801f10d",
   "outputs": [],
   "execution_count": 18
  },
  {
   "metadata": {
    "ExecuteTime": {
     "end_time": "2024-12-22T15:37:17.518247Z",
     "start_time": "2024-12-22T15:37:17.249578Z"
    }
   },
   "cell_type": "code",
   "source": [
    "final_dataset_path = \"final_dataset.txt\"\n",
    "dataset_dict = create_dataset_from_final_file(final_dataset_path)\n",
    "dataset = dataset_dict['full_data']"
   ],
   "id": "35b8e6d4d262ac49",
   "outputs": [
    {
     "name": "stderr",
     "output_type": "stream",
     "text": [
      "Casting the dataset: 100%|██████████| 1248/1248 [00:00<00:00, 6189.84 examples/s]\n"
     ]
    }
   ],
   "execution_count": 19
  },
  {
   "metadata": {},
   "cell_type": "markdown",
   "source": "## Tokenize and align labels, also add datacollator",
   "id": "a85774695bc51613"
  },
  {
   "metadata": {
    "ExecuteTime": {
     "end_time": "2024-12-22T15:37:17.532869Z",
     "start_time": "2024-12-22T15:37:17.527354Z"
    }
   },
   "cell_type": "code",
   "source": [
    "def align_labels_with_tokens(labels, word_ids):\n",
    "    new_labels = []\n",
    "    current_word = None\n",
    "\n",
    "    for word_id in word_ids:\n",
    "        if word_id != current_word:\n",
    "            current_word = word_id\n",
    "            label = -100 if word_id is None else labels[word_id]\n",
    "            new_labels.append(label)\n",
    "\n",
    "        elif word_id is None:\n",
    "            # Special token\n",
    "            new_labels.append(-100)\n",
    "\n",
    "        else:\n",
    "            # Same word as previous token\n",
    "            label = labels[word_id]\n",
    "\n",
    "            # If the label is B-XXX we change it to I-XXX\n",
    "            if label % 2 == 1:\n",
    "                label += 1\n",
    "            new_labels.append(label)\n",
    "\n",
    "    return new_labels\n",
    "\n",
    "\n",
    "def tokenize_and_align_labels(examples):\n",
    "    tokenized_inputs = tokenizer(\n",
    "        examples[\"tokens\"], truncation=True,\n",
    "        is_split_into_words=True\n",
    "    )\n",
    "    all_labels = examples[\"ner_tags\"]\n",
    "    new_labels = []\n",
    "    for i, labels in enumerate(all_labels):\n",
    "        word_ids = tokenized_inputs.word_ids(i)\n",
    "        new_labels.append(align_labels_with_tokens(labels, word_ids))\n",
    "\n",
    "    tokenized_inputs[\"labels\"] = new_labels\n",
    "    return tokenized_inputs"
   ],
   "id": "5b8c9593f60bdb7e",
   "outputs": [],
   "execution_count": 20
  },
  {
   "metadata": {},
   "cell_type": "markdown",
   "source": "## Dataset generators",
   "id": "1798cebc48c3299c"
  },
  {
   "metadata": {
    "ExecuteTime": {
     "end_time": "2024-12-22T15:37:17.567043Z",
     "start_time": "2024-12-22T15:37:17.561701Z"
    }
   },
   "cell_type": "code",
   "source": [
    "def generate_train_datasets(dataset, number_of_samples, number_of_splits):\n",
    "    \"\"\"\n",
    "    Generates train datasets by sampling from the given dataset based on the number of samples and splits.\n",
    "\n",
    "    Args:\n",
    "        dataset (Dataset): The base dataset to sample from.\n",
    "        number_of_samples (int): Number of samples per dataset.\n",
    "        number_of_splits (int): Number of datasets to generate (different seeds).\n",
    "\n",
    "    Returns:\n",
    "        List[Tuple[str, Dataset, List[int]]]: List of generated datasets with their names and indices.\n",
    "    \"\"\"\n",
    "    datasets = []\n",
    "\n",
    "    for seed in range(number_of_splits):\n",
    "        # Set the random seed for reproducibility\n",
    "        random.seed(seed)\n",
    "\n",
    "        # Shuffle and sample from the dataset\n",
    "        indices = list(range(len(dataset)))\n",
    "        random.shuffle(indices)\n",
    "        sampled_indices = indices[:number_of_samples]\n",
    "\n",
    "        sampled_dataset = dataset.select(sampled_indices)\n",
    "\n",
    "        # Add the dataset with its name and indices\n",
    "        datasets.append((f\"train_dataset_{number_of_samples}_{seed}\", sampled_dataset, sampled_indices))\n",
    "\n",
    "    return datasets"
   ],
   "id": "b4b79e14d8ca0efa",
   "outputs": [],
   "execution_count": 21
  },
  {
   "metadata": {
    "ExecuteTime": {
     "end_time": "2024-12-22T15:37:17.613118Z",
     "start_time": "2024-12-22T15:37:17.608601Z"
    }
   },
   "cell_type": "code",
   "source": [
    "def generate_validation_datasets(dataset, train_indices, number_of_samples, number_of_splits):\n",
    "    \"\"\"\n",
    "    Generates validation datasets by sampling from the given dataset, ensuring no overlap with training data.\n",
    "\n",
    "    Args:\n",
    "        dataset (Dataset): The base dataset to sample from.\n",
    "        train_indices (List[int]): Indices of the training dataset to exclude from sampling.\n",
    "        number_of_samples (int): Number of samples per validation dataset.\n",
    "        number_of_splits (int): Number of validation datasets to generate (different seeds).\n",
    "\n",
    "    Returns:\n",
    "        List[Tuple[str, Dataset, List[int]]]: List of generated validation datasets with names and indices.\n",
    "    \"\"\"\n",
    "    datasets = []\n",
    "    all_indices = set(range(len(dataset)))\n",
    "    available_indices = list(all_indices - set(train_indices))  # Exclude training indices\n",
    "\n",
    "    for seed in range(number_of_splits):\n",
    "        # Set the random seed for reproducibility\n",
    "        random.seed(seed)\n",
    "\n",
    "        # Shuffle and sample from the remaining indices\n",
    "        random.shuffle(available_indices)\n",
    "        sampled_indices = available_indices[:number_of_samples]\n",
    "\n",
    "        sampled_dataset = dataset.select(sampled_indices)\n",
    "\n",
    "        # Add the dataset with its name and indices\n",
    "        datasets.append((f\"val_dataset_{number_of_samples}_{seed}\", sampled_dataset, sampled_indices))\n",
    "\n",
    "    return datasets"
   ],
   "id": "513adc9d9f4ee109",
   "outputs": [],
   "execution_count": 22
  },
  {
   "metadata": {
    "ExecuteTime": {
     "end_time": "2024-12-22T15:37:17.645681Z",
     "start_time": "2024-12-22T15:37:17.640218Z"
    }
   },
   "cell_type": "code",
   "source": [
    "def generate_test_datasets(dataset, train_indices, val_indices, number_of_samples, number_of_splits):\n",
    "    \"\"\"\n",
    "    Generates test datasets by sampling from the given dataset, ensuring no overlap with training or validation data.\n",
    "\n",
    "    Args:\n",
    "        dataset (Dataset): The base dataset to sample from.\n",
    "        train_indices (List[int]): Indices of the training dataset to exclude from sampling.\n",
    "        val_indices (List[int]): Indices of the validation dataset to exclude from sampling.\n",
    "        number_of_samples (int): Number of samples per test dataset.\n",
    "        number_of_splits (int): Number of test datasets to generate (different seeds).\n",
    "\n",
    "    Returns:\n",
    "        List[Tuple[str, Dataset]]: List of generated test datasets with names.\n",
    "    \"\"\"\n",
    "    datasets = []\n",
    "    all_indices = set(range(len(dataset)))\n",
    "    available_indices = list(all_indices - set(train_indices) - set(val_indices))  # Exclude train and val indices\n",
    "\n",
    "    for seed in range(number_of_splits):\n",
    "        # Set the random seed for reproducibility\n",
    "        random.seed(seed)\n",
    "\n",
    "        # Shuffle and sample from the remaining indices\n",
    "        random.shuffle(available_indices)\n",
    "        sampled_indices = available_indices[:number_of_samples]\n",
    "\n",
    "        sampled_dataset = dataset.select(sampled_indices)\n",
    "\n",
    "        # Add the dataset with its name\n",
    "        datasets.append((f\"test_dataset_{number_of_samples}_{seed}\", sampled_dataset))\n",
    "\n",
    "    return datasets"
   ],
   "id": "58e5dae8d7e7bcf8",
   "outputs": [],
   "execution_count": 23
  },
  {
   "metadata": {},
   "cell_type": "markdown",
   "source": "### Example usage",
   "id": "87bfb3346f6372cc"
  },
  {
   "metadata": {
    "ExecuteTime": {
     "end_time": "2024-12-22T15:37:17.676512Z",
     "start_time": "2024-12-22T15:37:17.672999Z"
    }
   },
   "cell_type": "code",
   "source": [
    "# Step 1: Generate Train Dataset\n",
    "# train_datasets = generate_train_datasets(dataset, number_of_samples=30, number_of_splits=1)\n",
    "# train_name, train_dataset, train_indices = train_datasets[0]\n",
    "# print(f\"{train_name}: {len(train_dataset)} samples\")\n",
    "#\n",
    "# # Step 2: Generate Validation Dataset\n",
    "# val_datasets = generate_validation_datasets(dataset, train_indices, number_of_samples=30, number_of_splits=1)\n",
    "# val_name, val_dataset, val_indices = val_datasets[0]\n",
    "# print(f\"{val_name}: {len(val_dataset)} samples\")\n",
    "#\n",
    "# # Step 3: Generate Test Dataset\n",
    "# test_datasets = generate_test_datasets(dataset, train_indices, val_indices, number_of_samples=30, number_of_splits=1)\n",
    "# test_name, test_dataset = test_datasets[0]\n",
    "# print(f\"{test_name}: {len(test_dataset)} samples\")"
   ],
   "id": "6f8557b1a1dc6dd6",
   "outputs": [],
   "execution_count": 24
  },
  {
   "metadata": {},
   "cell_type": "markdown",
   "source": "# Prepping for training",
   "id": "b7084bbcd75432d9"
  },
  {
   "metadata": {
    "ExecuteTime": {
     "end_time": "2024-12-22T15:37:18.396383Z",
     "start_time": "2024-12-22T15:37:17.721372Z"
    }
   },
   "cell_type": "code",
   "source": [
    "# Load the evaluation metric\n",
    "metric = evaluate.load(\"seqeval\")\n",
    "\n",
    "label_names = dataset.features[\"ner_tags\"].feature.names\n",
    "id2label = {i: label for i, label in enumerate(label_names)}\n",
    "label2id = {v: k for k, v in id2label.items()}"
   ],
   "id": "bc367cf3648c3146",
   "outputs": [],
   "execution_count": 25
  },
  {
   "metadata": {
    "ExecuteTime": {
     "end_time": "2024-12-22T15:37:18.429946Z",
     "start_time": "2024-12-22T15:37:18.424883Z"
    }
   },
   "cell_type": "code",
   "source": [
    "def create_dataset_given_model(tokenizer_):\n",
    "    # tokenizer = AutoTokenizer.from_pretrained(model_name)\n",
    "    data_collator_ = DataCollatorForTokenClassification(tokenizer=tokenizer_)\n",
    "\n",
    "    # Tokenize and align labels\n",
    "    tokenized_dataset_ = dataset.map(tokenize_and_align_labels, batched=True, remove_columns=dataset.column_names)\n",
    "\n",
    "    # Step 1: Generate Train Dataset\n",
    "    train_datasets = generate_train_datasets(tokenized_dataset_, number_of_samples=30, number_of_splits=1)\n",
    "    train_name, train_dataset, train_indices = train_datasets[0]\n",
    "    print(f\"{train_name}: {len(train_dataset)} samples\")\n",
    "\n",
    "    # Step 2: Generate Validation Dataset\n",
    "    val_datasets = generate_validation_datasets(tokenized_dataset_, train_indices, number_of_samples=30, number_of_splits=1)\n",
    "    val_name, val_dataset, val_indices = val_datasets[0]\n",
    "    print(f\"{val_name}: {len(val_dataset)} samples\")\n",
    "\n",
    "    # Step 3: Generate Test Dataset\n",
    "    test_datasets = generate_test_datasets(tokenized_dataset_, train_indices, val_indices, number_of_samples=30, number_of_splits=1)\n",
    "    test_name, test_dataset = test_datasets[0]\n",
    "    print(f\"{test_name}: {len(test_dataset)} samples\")\n",
    "\n",
    "    return data_collator_, train_dataset, val_dataset, test_dataset\n"
   ],
   "id": "1f56f43a627b4076",
   "outputs": [],
   "execution_count": 26
  },
  {
   "metadata": {
    "ExecuteTime": {
     "end_time": "2024-12-22T15:37:18.461642Z",
     "start_time": "2024-12-22T15:37:18.457946Z"
    }
   },
   "cell_type": "code",
   "source": [
    "def postprocess(predictions, labels):\n",
    "    predictions = predictions.detach().cpu().clone().numpy()\n",
    "    labels = labels.detach().cpu().clone().numpy()\n",
    "\n",
    "    # Flatten predictions and labels, removing ignored indices\n",
    "    true_labels = [label for label_seq in labels for label in label_seq if label != -100]\n",
    "    true_predictions = [pred for pred_seq, label_seq in zip(predictions, labels)\n",
    "                        for pred, label in zip(pred_seq, label_seq) if label != -100]\n",
    "    return true_labels, true_predictions\n"
   ],
   "id": "2a875af61f42f00a",
   "outputs": [],
   "execution_count": 27
  },
  {
   "metadata": {},
   "cell_type": "markdown",
   "source": "# Training and evaluation",
   "id": "e30995779e545bcf"
  },
  {
   "metadata": {
    "ExecuteTime": {
     "end_time": "2024-12-22T16:40:09.571449Z",
     "start_time": "2024-12-22T15:37:18.517264Z"
    }
   },
   "cell_type": "code",
   "source": [
    "# Define the models and their corresponding sizes\n",
    "models = {\n",
    "    \"small\": \"bert-base-cased\",\n",
    "    \"medium\": \"bert-large-cased\",\n",
    "    \"large\": \"roberta-large\"\n",
    "}\n",
    "\n",
    "# Define hyperparameter grid\n",
    "param_grid = {\n",
    "    \"learning_rate\": [5e-6, 2e-5, 5e-5],\n",
    "    \"batch_size\": [8, 16],\n",
    "    \"weight_decay\": [0.0, 0.01]\n",
    "}\n",
    "\n",
    "device = torch.device(\"cuda\" if torch.cuda.is_available() else \"cpu\")\n",
    "\n",
    "# Loop over models\n",
    "for size, model_name in models.items():\n",
    "    print(f\"\\nTuning and evaluating {model_name} ({size})...\")\n",
    "    best_f1 = 0.0\n",
    "    best_hyperparameters = None\n",
    "    model_save_path = f\"saved_models/{model_name}\"\n",
    "    os.makedirs(model_save_path, exist_ok=True)\n",
    "    if size == \"large\":\n",
    "        tokenizer = RobertaTokenizerFast.from_pretrained(\"roberta-large\", add_prefix_space=True)\n",
    "    else:\n",
    "        tokenizer = AutoTokenizer.from_pretrained(model_name)\n",
    "\n",
    "    # Hyperparameter tuning loop\n",
    "    for params in ParameterGrid(param_grid):\n",
    "        print(f\"\\nHyperparameters: {params}\")\n",
    "\n",
    "        # Create datasets and data collator for the current model\n",
    "        data_collator, tokenized_train, tokenized_val, tokenized_test = create_dataset_given_model(tokenizer)\n",
    "\n",
    "        # Create DataLoaders\n",
    "        train_dataloader = DataLoader(tokenized_train, batch_size=params[\"batch_size\"], shuffle=True, collate_fn=data_collator)\n",
    "        val_dataloader = DataLoader(tokenized_val, batch_size=params[\"batch_size\"], collate_fn=data_collator)\n",
    "        test_dataloader = DataLoader(tokenized_test, batch_size=params[\"batch_size\"], collate_fn=data_collator)\n",
    "\n",
    "        # Initialize the model for token classification\n",
    "        model = AutoModelForTokenClassification.from_pretrained(\n",
    "            model_name, id2label=id2label, label2id=label2id\n",
    "        )\n",
    "\n",
    "        # Set up optimizer and learning rate scheduler\n",
    "        optimizer = torch.optim.AdamW(\n",
    "            model.parameters(), lr=params[\"learning_rate\"], weight_decay=params[\"weight_decay\"]\n",
    "        )\n",
    "        num_train_epochs = 3\n",
    "        num_update_steps_per_epoch = len(train_dataloader)\n",
    "        num_training_steps = num_train_epochs * num_update_steps_per_epoch\n",
    "        lr_scheduler = get_scheduler(\n",
    "            \"linear\",\n",
    "            optimizer=optimizer,\n",
    "            num_warmup_steps=0,\n",
    "            num_training_steps=num_training_steps\n",
    "        )\n",
    "\n",
    "        # Use the accelerator for distributed training\n",
    "        accelerator = Accelerator()\n",
    "        model, optimizer, train_dataloader, val_dataloader = accelerator.prepare(\n",
    "            model, optimizer, train_dataloader, val_dataloader\n",
    "        )\n",
    "\n",
    "        # Training loop\n",
    "        for epoch in range(num_train_epochs):\n",
    "            print(f\"Epoch {epoch + 1}/{num_train_epochs}\")\n",
    "            model.train()\n",
    "            total_loss = 0\n",
    "            progress_bar = tqdm(train_dataloader, desc=f\"Training Epoch {epoch+1}\")\n",
    "            for batch in progress_bar:\n",
    "                # Move batch data to the same device as the model\n",
    "                batch = {k: v.to(device) for k, v in batch.items()}\n",
    "                outputs = model(**batch)\n",
    "                loss = outputs.loss\n",
    "                total_loss += loss.item()\n",
    "\n",
    "                accelerator.backward(loss)\n",
    "                optimizer.step()\n",
    "                lr_scheduler.step()\n",
    "                optimizer.zero_grad()\n",
    "\n",
    "                progress_bar.set_postfix(loss=loss.item())\n",
    "\n",
    "            print(f\"Epoch {epoch + 1} Loss: {total_loss:.4f}\")\n",
    "\n",
    "            # Validation loop\n",
    "            model.eval()\n",
    "            val_predictions, val_labels = [], []\n",
    "            with torch.no_grad():\n",
    "                for batch in val_dataloader:\n",
    "                    # Move batch data to the same device as the model\n",
    "                    batch = {k: v.to(device) for k, v in batch.items()}\n",
    "                    outputs = model(**batch)\n",
    "                    logits = outputs.logits\n",
    "                    predictions = logits.argmax(dim=-1)\n",
    "                    labels = batch[\"labels\"]\n",
    "\n",
    "                    # Handle padding across processes for multi-GPU\n",
    "                    predictions = accelerator.pad_across_processes(predictions, dim=1, pad_index=-100)\n",
    "                    labels = accelerator.pad_across_processes(labels, dim=1, pad_index=-100)\n",
    "\n",
    "                    predictions_gathered = accelerator.gather(predictions)\n",
    "                    labels_gathered = accelerator.gather(labels)\n",
    "\n",
    "                    # Postprocess to get flattened labels and predictions\n",
    "                    flat_labels, flat_predictions = postprocess(predictions_gathered, labels_gathered)\n",
    "                    val_labels.extend(flat_labels)\n",
    "                    val_predictions.extend(flat_predictions)\n",
    "\n",
    "            # Calculate validation metrics\n",
    "            precision, recall, f1, _ = precision_recall_fscore_support(\n",
    "                val_labels, val_predictions, average=\"micro\"  # 'micro' aggregates across all classes\n",
    "            )\n",
    "            print(f\"Validation Metrics (Precision: {precision:.4f}, Recall: {recall:.4f}, F1: {f1:.4f})\")\n",
    "\n",
    "        # Test loop for evaluation after training\n",
    "        model.eval()\n",
    "        test_predictions, test_labels = [], []\n",
    "        with torch.no_grad():\n",
    "            for batch in test_dataloader:\n",
    "                # Move batch data to the same device as the model\n",
    "                batch = {k: v.to(device) for k, v in batch.items()}\n",
    "                outputs = model(**batch)\n",
    "                logits = outputs.logits\n",
    "                predictions = logits.argmax(dim=-1)\n",
    "                labels = batch[\"labels\"]\n",
    "\n",
    "                # Handle padding across processes for multi-GPU\n",
    "                predictions = accelerator.pad_across_processes(predictions, dim=1, pad_index=-100)\n",
    "                labels = accelerator.pad_across_processes(labels, dim=1, pad_index=-100)\n",
    "\n",
    "                predictions_gathered = accelerator.gather(predictions)\n",
    "                labels_gathered = accelerator.gather(labels)\n",
    "\n",
    "                # Postprocess to get flattened labels and predictions\n",
    "                flat_labels, flat_predictions = postprocess(predictions_gathered, labels_gathered)\n",
    "                test_labels.extend(flat_labels)\n",
    "                test_predictions.extend(flat_predictions)\n",
    "\n",
    "        # Calculate test metrics\n",
    "        precision, recall, f1, _ = precision_recall_fscore_support(\n",
    "            test_labels, test_predictions, average=\"micro\"  # 'micro' aggregates across all classes\n",
    "        )\n",
    "        print(f\"Test Metrics (Precision: {precision:.4f}, Recall: {recall:.4f}, F1: {f1:.4f})\")\n",
    "\n",
    "        # Save the best model based on test F1-score\n",
    "        if f1 > best_f1:\n",
    "            print(f\"New best model found for {model_name} with F1: {f1:.4f}\")\n",
    "            best_f1 = f1\n",
    "            best_hyperparameters = params\n",
    "\n",
    "            # Overwrite the saved model\n",
    "            accelerator.unwrap_model(model).save_pretrained(model_save_path)\n",
    "            tokenizer.save_pretrained(model_save_path)\n",
    "\n",
    "            # Save the best hyperparameters to a JSON file in the model's folder\n",
    "            best_config_path = os.path.join(model_save_path, \"best_config.json\")\n",
    "            with open(best_config_path, \"w\") as f:\n",
    "                json.dump({\n",
    "                    \"best_hyperparameters\": best_hyperparameters,\n",
    "                    \"best_f1\": best_f1\n",
    "                }, f, indent=4)\n",
    "\n",
    "    print(f\"\\nBest Model for {model_name} ({size}): {model_save_path}\")\n",
    "    print(f\"Best Hyperparameters: {best_hyperparameters}\")\n",
    "    print(f\"Best F1-Score: {best_f1:.4f}\")\n"
   ],
   "id": "fa33f20959c42e46",
   "outputs": [
    {
     "name": "stdout",
     "output_type": "stream",
     "text": [
      "\n",
      "Tuning and evaluating bert-base-cased (small)...\n",
      "\n",
      "Hyperparameters: {'batch_size': 8, 'learning_rate': 5e-06, 'weight_decay': 0.0}\n"
     ]
    },
    {
     "name": "stderr",
     "output_type": "stream",
     "text": [
      "Map: 100%|██████████| 1248/1248 [00:00<00:00, 4320.48 examples/s]\n",
      "Some weights of BertForTokenClassification were not initialized from the model checkpoint at bert-base-cased and are newly initialized: ['classifier.bias', 'classifier.weight']\n",
      "You should probably TRAIN this model on a down-stream task to be able to use it for predictions and inference.\n"
     ]
    },
    {
     "name": "stdout",
     "output_type": "stream",
     "text": [
      "train_dataset_30_0: 30 samples\n",
      "val_dataset_30_0: 30 samples\n",
      "test_dataset_30_0: 30 samples\n",
      "Epoch 1/3\n"
     ]
    },
    {
     "name": "stderr",
     "output_type": "stream",
     "text": [
      "Training Epoch 1: 100%|██████████| 4/4 [00:05<00:00,  1.37s/it, loss=2.11]\n"
     ]
    },
    {
     "name": "stdout",
     "output_type": "stream",
     "text": [
      "Epoch 1 Loss: 8.8974\n",
      "Validation Metrics (Precision: 0.4260, Recall: 0.4260, F1: 0.4260)\n",
      "Epoch 2/3\n"
     ]
    },
    {
     "name": "stderr",
     "output_type": "stream",
     "text": [
      "Training Epoch 2: 100%|██████████| 4/4 [00:05<00:00,  1.45s/it, loss=2.02]\n"
     ]
    },
    {
     "name": "stdout",
     "output_type": "stream",
     "text": [
      "Epoch 2 Loss: 8.1820\n",
      "Validation Metrics (Precision: 0.6050, Recall: 0.6050, F1: 0.6050)\n",
      "Epoch 3/3\n"
     ]
    },
    {
     "name": "stderr",
     "output_type": "stream",
     "text": [
      "Training Epoch 3: 100%|██████████| 4/4 [00:06<00:00,  1.58s/it, loss=1.93]\n"
     ]
    },
    {
     "name": "stdout",
     "output_type": "stream",
     "text": [
      "Epoch 3 Loss: 7.7886\n",
      "Validation Metrics (Precision: 0.6470, Recall: 0.6470, F1: 0.6470)\n",
      "Test Metrics (Precision: 0.6664, Recall: 0.6664, F1: 0.6664)\n",
      "New best model found for bert-base-cased with F1: 0.6664\n",
      "\n",
      "Hyperparameters: {'batch_size': 8, 'learning_rate': 5e-06, 'weight_decay': 0.01}\n"
     ]
    },
    {
     "name": "stderr",
     "output_type": "stream",
     "text": [
      "Map: 100%|██████████| 1248/1248 [00:00<00:00, 5177.55 examples/s]\n",
      "Some weights of BertForTokenClassification were not initialized from the model checkpoint at bert-base-cased and are newly initialized: ['classifier.bias', 'classifier.weight']\n",
      "You should probably TRAIN this model on a down-stream task to be able to use it for predictions and inference.\n"
     ]
    },
    {
     "name": "stdout",
     "output_type": "stream",
     "text": [
      "train_dataset_30_0: 30 samples\n",
      "val_dataset_30_0: 30 samples\n",
      "test_dataset_30_0: 30 samples\n",
      "Epoch 1/3\n"
     ]
    },
    {
     "name": "stderr",
     "output_type": "stream",
     "text": [
      "Training Epoch 1: 100%|██████████| 4/4 [00:09<00:00,  2.36s/it, loss=2.17]\n"
     ]
    },
    {
     "name": "stdout",
     "output_type": "stream",
     "text": [
      "Epoch 1 Loss: 9.0584\n",
      "Validation Metrics (Precision: 0.3496, Recall: 0.3496, F1: 0.3496)\n",
      "Epoch 2/3\n"
     ]
    },
    {
     "name": "stderr",
     "output_type": "stream",
     "text": [
      "Training Epoch 2: 100%|██████████| 4/4 [00:09<00:00,  2.48s/it, loss=2.06]\n"
     ]
    },
    {
     "name": "stdout",
     "output_type": "stream",
     "text": [
      "Epoch 2 Loss: 8.3081\n",
      "Validation Metrics (Precision: 0.5609, Recall: 0.5609, F1: 0.5609)\n",
      "Epoch 3/3\n"
     ]
    },
    {
     "name": "stderr",
     "output_type": "stream",
     "text": [
      "Training Epoch 3: 100%|██████████| 4/4 [00:07<00:00,  1.86s/it, loss=1.98]\n"
     ]
    },
    {
     "name": "stdout",
     "output_type": "stream",
     "text": [
      "Epoch 3 Loss: 7.8983\n",
      "Validation Metrics (Precision: 0.6168, Recall: 0.6168, F1: 0.6168)\n",
      "Test Metrics (Precision: 0.6146, Recall: 0.6146, F1: 0.6146)\n",
      "\n",
      "Hyperparameters: {'batch_size': 8, 'learning_rate': 2e-05, 'weight_decay': 0.0}\n"
     ]
    },
    {
     "name": "stderr",
     "output_type": "stream",
     "text": [
      "Map: 100%|██████████| 1248/1248 [00:00<00:00, 4900.46 examples/s]\n",
      "Some weights of BertForTokenClassification were not initialized from the model checkpoint at bert-base-cased and are newly initialized: ['classifier.bias', 'classifier.weight']\n",
      "You should probably TRAIN this model on a down-stream task to be able to use it for predictions and inference.\n"
     ]
    },
    {
     "name": "stdout",
     "output_type": "stream",
     "text": [
      "train_dataset_30_0: 30 samples\n",
      "val_dataset_30_0: 30 samples\n",
      "test_dataset_30_0: 30 samples\n",
      "Epoch 1/3\n"
     ]
    },
    {
     "name": "stderr",
     "output_type": "stream",
     "text": [
      "Training Epoch 1: 100%|██████████| 4/4 [00:05<00:00,  1.41s/it, loss=1.71]\n"
     ]
    },
    {
     "name": "stdout",
     "output_type": "stream",
     "text": [
      "Epoch 1 Loss: 8.1648\n",
      "Validation Metrics (Precision: 0.7446, Recall: 0.7446, F1: 0.7446)\n",
      "Epoch 2/3\n"
     ]
    },
    {
     "name": "stderr",
     "output_type": "stream",
     "text": [
      "Training Epoch 2: 100%|██████████| 4/4 [00:05<00:00,  1.39s/it, loss=1.26]\n"
     ]
    },
    {
     "name": "stdout",
     "output_type": "stream",
     "text": [
      "Epoch 2 Loss: 5.7123\n",
      "Validation Metrics (Precision: 0.7473, Recall: 0.7473, F1: 0.7473)\n",
      "Epoch 3/3\n"
     ]
    },
    {
     "name": "stderr",
     "output_type": "stream",
     "text": [
      "Training Epoch 3: 100%|██████████| 4/4 [00:06<00:00,  1.52s/it, loss=1.21] \n"
     ]
    },
    {
     "name": "stdout",
     "output_type": "stream",
     "text": [
      "Epoch 3 Loss: 4.6537\n",
      "Validation Metrics (Precision: 0.7473, Recall: 0.7473, F1: 0.7473)\n",
      "Test Metrics (Precision: 0.7660, Recall: 0.7660, F1: 0.7660)\n",
      "New best model found for bert-base-cased with F1: 0.7660\n",
      "\n",
      "Hyperparameters: {'batch_size': 8, 'learning_rate': 2e-05, 'weight_decay': 0.01}\n"
     ]
    },
    {
     "name": "stderr",
     "output_type": "stream",
     "text": [
      "Map: 100%|██████████| 1248/1248 [00:00<00:00, 4203.71 examples/s]\n",
      "Some weights of BertForTokenClassification were not initialized from the model checkpoint at bert-base-cased and are newly initialized: ['classifier.bias', 'classifier.weight']\n",
      "You should probably TRAIN this model on a down-stream task to be able to use it for predictions and inference.\n"
     ]
    },
    {
     "name": "stdout",
     "output_type": "stream",
     "text": [
      "train_dataset_30_0: 30 samples\n",
      "val_dataset_30_0: 30 samples\n",
      "test_dataset_30_0: 30 samples\n",
      "Epoch 1/3\n"
     ]
    },
    {
     "name": "stderr",
     "output_type": "stream",
     "text": [
      "Training Epoch 1: 100%|██████████| 4/4 [00:07<00:00,  1.90s/it, loss=1.96]\n"
     ]
    },
    {
     "name": "stdout",
     "output_type": "stream",
     "text": [
      "Epoch 1 Loss: 9.1255\n",
      "Validation Metrics (Precision: 0.6978, Recall: 0.6978, F1: 0.6978)\n",
      "Epoch 2/3\n"
     ]
    },
    {
     "name": "stderr",
     "output_type": "stream",
     "text": [
      "Training Epoch 2: 100%|██████████| 4/4 [00:07<00:00,  1.86s/it, loss=1.16]\n"
     ]
    },
    {
     "name": "stdout",
     "output_type": "stream",
     "text": [
      "Epoch 2 Loss: 6.0687\n",
      "Validation Metrics (Precision: 0.7483, Recall: 0.7483, F1: 0.7483)\n",
      "Epoch 3/3\n"
     ]
    },
    {
     "name": "stderr",
     "output_type": "stream",
     "text": [
      "Training Epoch 3: 100%|██████████| 4/4 [00:08<00:00,  2.25s/it, loss=1.25]\n"
     ]
    },
    {
     "name": "stdout",
     "output_type": "stream",
     "text": [
      "Epoch 3 Loss: 4.7102\n",
      "Validation Metrics (Precision: 0.7483, Recall: 0.7483, F1: 0.7483)\n",
      "Test Metrics (Precision: 0.7664, Recall: 0.7664, F1: 0.7664)\n",
      "New best model found for bert-base-cased with F1: 0.7664\n",
      "\n",
      "Hyperparameters: {'batch_size': 8, 'learning_rate': 5e-05, 'weight_decay': 0.0}\n"
     ]
    },
    {
     "name": "stderr",
     "output_type": "stream",
     "text": [
      "Map: 100%|██████████| 1248/1248 [00:00<00:00, 3198.68 examples/s]\n",
      "Some weights of BertForTokenClassification were not initialized from the model checkpoint at bert-base-cased and are newly initialized: ['classifier.bias', 'classifier.weight']\n",
      "You should probably TRAIN this model on a down-stream task to be able to use it for predictions and inference.\n"
     ]
    },
    {
     "name": "stdout",
     "output_type": "stream",
     "text": [
      "train_dataset_30_0: 30 samples\n",
      "val_dataset_30_0: 30 samples\n",
      "test_dataset_30_0: 30 samples\n",
      "Epoch 1/3\n"
     ]
    },
    {
     "name": "stderr",
     "output_type": "stream",
     "text": [
      "Training Epoch 1: 100%|██████████| 4/4 [00:03<00:00,  1.12it/s, loss=0.938]\n"
     ]
    },
    {
     "name": "stdout",
     "output_type": "stream",
     "text": [
      "Epoch 1 Loss: 6.9722\n",
      "Validation Metrics (Precision: 0.7483, Recall: 0.7483, F1: 0.7483)\n",
      "Epoch 2/3\n"
     ]
    },
    {
     "name": "stderr",
     "output_type": "stream",
     "text": [
      "Training Epoch 2: 100%|██████████| 4/4 [00:07<00:00,  1.83s/it, loss=1.33] \n"
     ]
    },
    {
     "name": "stdout",
     "output_type": "stream",
     "text": [
      "Epoch 2 Loss: 3.9562\n",
      "Validation Metrics (Precision: 0.7490, Recall: 0.7490, F1: 0.7490)\n",
      "Epoch 3/3\n"
     ]
    },
    {
     "name": "stderr",
     "output_type": "stream",
     "text": [
      "Training Epoch 3: 100%|██████████| 4/4 [00:05<00:00,  1.31s/it, loss=0.564]\n"
     ]
    },
    {
     "name": "stdout",
     "output_type": "stream",
     "text": [
      "Epoch 3 Loss: 3.2297\n",
      "Validation Metrics (Precision: 0.7547, Recall: 0.7547, F1: 0.7547)\n",
      "Test Metrics (Precision: 0.7704, Recall: 0.7704, F1: 0.7704)\n",
      "New best model found for bert-base-cased with F1: 0.7704\n",
      "\n",
      "Hyperparameters: {'batch_size': 8, 'learning_rate': 5e-05, 'weight_decay': 0.01}\n"
     ]
    },
    {
     "name": "stderr",
     "output_type": "stream",
     "text": [
      "Map: 100%|██████████| 1248/1248 [00:00<00:00, 4509.08 examples/s]\n",
      "Some weights of BertForTokenClassification were not initialized from the model checkpoint at bert-base-cased and are newly initialized: ['classifier.bias', 'classifier.weight']\n",
      "You should probably TRAIN this model on a down-stream task to be able to use it for predictions and inference.\n"
     ]
    },
    {
     "name": "stdout",
     "output_type": "stream",
     "text": [
      "train_dataset_30_0: 30 samples\n",
      "val_dataset_30_0: 30 samples\n",
      "test_dataset_30_0: 30 samples\n",
      "Epoch 1/3\n"
     ]
    },
    {
     "name": "stderr",
     "output_type": "stream",
     "text": [
      "Training Epoch 1: 100%|██████████| 4/4 [00:08<00:00,  2.16s/it, loss=1.17]\n"
     ]
    },
    {
     "name": "stdout",
     "output_type": "stream",
     "text": [
      "Epoch 1 Loss: 6.8171\n",
      "Validation Metrics (Precision: 0.7483, Recall: 0.7483, F1: 0.7483)\n",
      "Epoch 2/3\n"
     ]
    },
    {
     "name": "stderr",
     "output_type": "stream",
     "text": [
      "Training Epoch 2: 100%|██████████| 4/4 [00:09<00:00,  2.27s/it, loss=0.999]\n"
     ]
    },
    {
     "name": "stdout",
     "output_type": "stream",
     "text": [
      "Epoch 2 Loss: 3.7042\n",
      "Validation Metrics (Precision: 0.7487, Recall: 0.7487, F1: 0.7487)\n",
      "Epoch 3/3\n"
     ]
    },
    {
     "name": "stderr",
     "output_type": "stream",
     "text": [
      "Training Epoch 3: 100%|██████████| 4/4 [00:08<00:00,  2.19s/it, loss=0.773]\n"
     ]
    },
    {
     "name": "stdout",
     "output_type": "stream",
     "text": [
      "Epoch 3 Loss: 3.1680\n",
      "Validation Metrics (Precision: 0.7497, Recall: 0.7497, F1: 0.7497)\n",
      "Test Metrics (Precision: 0.7674, Recall: 0.7674, F1: 0.7674)\n",
      "\n",
      "Hyperparameters: {'batch_size': 16, 'learning_rate': 5e-06, 'weight_decay': 0.0}\n"
     ]
    },
    {
     "name": "stderr",
     "output_type": "stream",
     "text": [
      "Map: 100%|██████████| 1248/1248 [00:00<00:00, 4494.75 examples/s]\n",
      "Some weights of BertForTokenClassification were not initialized from the model checkpoint at bert-base-cased and are newly initialized: ['classifier.bias', 'classifier.weight']\n",
      "You should probably TRAIN this model on a down-stream task to be able to use it for predictions and inference.\n"
     ]
    },
    {
     "name": "stdout",
     "output_type": "stream",
     "text": [
      "train_dataset_30_0: 30 samples\n",
      "val_dataset_30_0: 30 samples\n",
      "test_dataset_30_0: 30 samples\n",
      "Epoch 1/3\n"
     ]
    },
    {
     "name": "stderr",
     "output_type": "stream",
     "text": [
      "Training Epoch 1: 100%|██████████| 2/2 [00:07<00:00,  3.54s/it, loss=2.47]\n"
     ]
    },
    {
     "name": "stdout",
     "output_type": "stream",
     "text": [
      "Epoch 1 Loss: 5.0147\n",
      "Validation Metrics (Precision: 0.0727, Recall: 0.0727, F1: 0.0727)\n",
      "Epoch 2/3\n"
     ]
    },
    {
     "name": "stderr",
     "output_type": "stream",
     "text": [
      "Training Epoch 2: 100%|██████████| 2/2 [00:06<00:00,  3.39s/it, loss=2.36]\n"
     ]
    },
    {
     "name": "stdout",
     "output_type": "stream",
     "text": [
      "Epoch 2 Loss: 4.7590\n",
      "Validation Metrics (Precision: 0.1423, Recall: 0.1423, F1: 0.1423)\n",
      "Epoch 3/3\n"
     ]
    },
    {
     "name": "stderr",
     "output_type": "stream",
     "text": [
      "Training Epoch 3: 100%|██████████| 2/2 [00:07<00:00,  3.79s/it, loss=2.31]\n"
     ]
    },
    {
     "name": "stdout",
     "output_type": "stream",
     "text": [
      "Epoch 3 Loss: 4.6152\n",
      "Validation Metrics (Precision: 0.1800, Recall: 0.1800, F1: 0.1800)\n",
      "Test Metrics (Precision: 0.1801, Recall: 0.1801, F1: 0.1801)\n",
      "\n",
      "Hyperparameters: {'batch_size': 16, 'learning_rate': 5e-06, 'weight_decay': 0.01}\n"
     ]
    },
    {
     "name": "stderr",
     "output_type": "stream",
     "text": [
      "Map: 100%|██████████| 1248/1248 [00:00<00:00, 4603.60 examples/s]\n"
     ]
    },
    {
     "name": "stdout",
     "output_type": "stream",
     "text": [
      "train_dataset_30_0: 30 samples\n",
      "val_dataset_30_0: 30 samples\n",
      "test_dataset_30_0: 30 samples\n"
     ]
    },
    {
     "name": "stderr",
     "output_type": "stream",
     "text": [
      "Some weights of BertForTokenClassification were not initialized from the model checkpoint at bert-base-cased and are newly initialized: ['classifier.bias', 'classifier.weight']\n",
      "You should probably TRAIN this model on a down-stream task to be able to use it for predictions and inference.\n"
     ]
    },
    {
     "name": "stdout",
     "output_type": "stream",
     "text": [
      "Epoch 1/3\n"
     ]
    },
    {
     "name": "stderr",
     "output_type": "stream",
     "text": [
      "Training Epoch 1: 100%|██████████| 2/2 [00:08<00:00,  4.48s/it, loss=2.38]\n"
     ]
    },
    {
     "name": "stdout",
     "output_type": "stream",
     "text": [
      "Epoch 1 Loss: 4.8156\n",
      "Validation Metrics (Precision: 0.1376, Recall: 0.1376, F1: 0.1376)\n",
      "Epoch 2/3\n"
     ]
    },
    {
     "name": "stderr",
     "output_type": "stream",
     "text": [
      "Training Epoch 2: 100%|██████████| 2/2 [00:10<00:00,  5.10s/it, loss=2.28]\n"
     ]
    },
    {
     "name": "stdout",
     "output_type": "stream",
     "text": [
      "Epoch 2 Loss: 4.5996\n",
      "Validation Metrics (Precision: 0.2079, Recall: 0.2079, F1: 0.2079)\n",
      "Epoch 3/3\n"
     ]
    },
    {
     "name": "stderr",
     "output_type": "stream",
     "text": [
      "Training Epoch 3: 100%|██████████| 2/2 [00:09<00:00,  4.82s/it, loss=2.22]\n"
     ]
    },
    {
     "name": "stdout",
     "output_type": "stream",
     "text": [
      "Epoch 3 Loss: 4.4660\n",
      "Validation Metrics (Precision: 0.2379, Recall: 0.2379, F1: 0.2379)\n",
      "Test Metrics (Precision: 0.2323, Recall: 0.2323, F1: 0.2323)\n",
      "\n",
      "Hyperparameters: {'batch_size': 16, 'learning_rate': 2e-05, 'weight_decay': 0.0}\n"
     ]
    },
    {
     "name": "stderr",
     "output_type": "stream",
     "text": [
      "Map: 100%|██████████| 1248/1248 [00:00<00:00, 4749.61 examples/s]\n",
      "Some weights of BertForTokenClassification were not initialized from the model checkpoint at bert-base-cased and are newly initialized: ['classifier.bias', 'classifier.weight']\n",
      "You should probably TRAIN this model on a down-stream task to be able to use it for predictions and inference.\n"
     ]
    },
    {
     "name": "stdout",
     "output_type": "stream",
     "text": [
      "train_dataset_30_0: 30 samples\n",
      "val_dataset_30_0: 30 samples\n",
      "test_dataset_30_0: 30 samples\n",
      "Epoch 1/3\n"
     ]
    },
    {
     "name": "stderr",
     "output_type": "stream",
     "text": [
      "Training Epoch 1: 100%|██████████| 2/2 [00:04<00:00,  2.25s/it, loss=2.18]\n"
     ]
    },
    {
     "name": "stdout",
     "output_type": "stream",
     "text": [
      "Epoch 1 Loss: 4.5874\n",
      "Validation Metrics (Precision: 0.5945, Recall: 0.5945, F1: 0.5945)\n",
      "Epoch 2/3\n"
     ]
    },
    {
     "name": "stderr",
     "output_type": "stream",
     "text": [
      "Training Epoch 2: 100%|██████████| 2/2 [00:06<00:00,  3.12s/it, loss=1.84]\n"
     ]
    },
    {
     "name": "stdout",
     "output_type": "stream",
     "text": [
      "Epoch 2 Loss: 3.7794\n",
      "Validation Metrics (Precision: 0.7312, Recall: 0.7312, F1: 0.7312)\n",
      "Epoch 3/3\n"
     ]
    },
    {
     "name": "stderr",
     "output_type": "stream",
     "text": [
      "Training Epoch 3: 100%|██████████| 2/2 [00:07<00:00,  3.67s/it, loss=1.57]\n"
     ]
    },
    {
     "name": "stdout",
     "output_type": "stream",
     "text": [
      "Epoch 3 Loss: 3.3278\n",
      "Validation Metrics (Precision: 0.7439, Recall: 0.7439, F1: 0.7439)\n",
      "Test Metrics (Precision: 0.7614, Recall: 0.7614, F1: 0.7614)\n",
      "\n",
      "Hyperparameters: {'batch_size': 16, 'learning_rate': 2e-05, 'weight_decay': 0.01}\n"
     ]
    },
    {
     "name": "stderr",
     "output_type": "stream",
     "text": [
      "Map: 100%|██████████| 1248/1248 [00:00<00:00, 4751.77 examples/s]\n",
      "Some weights of BertForTokenClassification were not initialized from the model checkpoint at bert-base-cased and are newly initialized: ['classifier.bias', 'classifier.weight']\n",
      "You should probably TRAIN this model on a down-stream task to be able to use it for predictions and inference.\n"
     ]
    },
    {
     "name": "stdout",
     "output_type": "stream",
     "text": [
      "train_dataset_30_0: 30 samples\n",
      "val_dataset_30_0: 30 samples\n",
      "test_dataset_30_0: 30 samples\n",
      "Epoch 1/3\n"
     ]
    },
    {
     "name": "stderr",
     "output_type": "stream",
     "text": [
      "Training Epoch 1: 100%|██████████| 2/2 [00:09<00:00,  4.98s/it, loss=2.41]\n"
     ]
    },
    {
     "name": "stdout",
     "output_type": "stream",
     "text": [
      "Epoch 1 Loss: 5.0485\n",
      "Validation Metrics (Precision: 0.2826, Recall: 0.2826, F1: 0.2826)\n",
      "Epoch 2/3\n"
     ]
    },
    {
     "name": "stderr",
     "output_type": "stream",
     "text": [
      "Training Epoch 2: 100%|██████████| 2/2 [00:09<00:00,  4.53s/it, loss=2.02]\n"
     ]
    },
    {
     "name": "stdout",
     "output_type": "stream",
     "text": [
      "Epoch 2 Loss: 4.1747\n",
      "Validation Metrics (Precision: 0.6709, Recall: 0.6709, F1: 0.6709)\n",
      "Epoch 3/3\n"
     ]
    },
    {
     "name": "stderr",
     "output_type": "stream",
     "text": [
      "Training Epoch 3: 100%|██████████| 2/2 [00:09<00:00,  4.76s/it, loss=1.76]\n"
     ]
    },
    {
     "name": "stdout",
     "output_type": "stream",
     "text": [
      "Epoch 3 Loss: 3.6401\n",
      "Validation Metrics (Precision: 0.7325, Recall: 0.7325, F1: 0.7325)\n",
      "Test Metrics (Precision: 0.7396, Recall: 0.7396, F1: 0.7396)\n",
      "\n",
      "Hyperparameters: {'batch_size': 16, 'learning_rate': 5e-05, 'weight_decay': 0.0}\n"
     ]
    },
    {
     "name": "stderr",
     "output_type": "stream",
     "text": [
      "Map: 100%|██████████| 1248/1248 [00:00<00:00, 4800.37 examples/s]\n",
      "Some weights of BertForTokenClassification were not initialized from the model checkpoint at bert-base-cased and are newly initialized: ['classifier.bias', 'classifier.weight']\n",
      "You should probably TRAIN this model on a down-stream task to be able to use it for predictions and inference.\n"
     ]
    },
    {
     "name": "stdout",
     "output_type": "stream",
     "text": [
      "train_dataset_30_0: 30 samples\n",
      "val_dataset_30_0: 30 samples\n",
      "test_dataset_30_0: 30 samples\n",
      "Epoch 1/3\n"
     ]
    },
    {
     "name": "stderr",
     "output_type": "stream",
     "text": [
      "Training Epoch 1: 100%|██████████| 2/2 [00:07<00:00,  3.64s/it, loss=1.67]\n"
     ]
    },
    {
     "name": "stdout",
     "output_type": "stream",
     "text": [
      "Epoch 1 Loss: 4.0045\n",
      "Validation Metrics (Precision: 0.7483, Recall: 0.7483, F1: 0.7483)\n",
      "Epoch 2/3\n"
     ]
    },
    {
     "name": "stderr",
     "output_type": "stream",
     "text": [
      "Training Epoch 2: 100%|██████████| 2/2 [00:06<00:00,  3.07s/it, loss=1.01]\n"
     ]
    },
    {
     "name": "stdout",
     "output_type": "stream",
     "text": [
      "Epoch 2 Loss: 2.2566\n",
      "Validation Metrics (Precision: 0.7483, Recall: 0.7483, F1: 0.7483)\n",
      "Epoch 3/3\n"
     ]
    },
    {
     "name": "stderr",
     "output_type": "stream",
     "text": [
      "Training Epoch 3: 100%|██████████| 2/2 [00:04<00:00,  2.29s/it, loss=0.891]\n"
     ]
    },
    {
     "name": "stdout",
     "output_type": "stream",
     "text": [
      "Epoch 3 Loss: 1.9069\n",
      "Validation Metrics (Precision: 0.7483, Recall: 0.7483, F1: 0.7483)\n",
      "Test Metrics (Precision: 0.7660, Recall: 0.7660, F1: 0.7660)\n",
      "\n",
      "Hyperparameters: {'batch_size': 16, 'learning_rate': 5e-05, 'weight_decay': 0.01}\n"
     ]
    },
    {
     "name": "stderr",
     "output_type": "stream",
     "text": [
      "Map: 100%|██████████| 1248/1248 [00:00<00:00, 4695.84 examples/s]\n",
      "Some weights of BertForTokenClassification were not initialized from the model checkpoint at bert-base-cased and are newly initialized: ['classifier.bias', 'classifier.weight']\n",
      "You should probably TRAIN this model on a down-stream task to be able to use it for predictions and inference.\n"
     ]
    },
    {
     "name": "stdout",
     "output_type": "stream",
     "text": [
      "train_dataset_30_0: 30 samples\n",
      "val_dataset_30_0: 30 samples\n",
      "test_dataset_30_0: 30 samples\n",
      "Epoch 1/3\n"
     ]
    },
    {
     "name": "stderr",
     "output_type": "stream",
     "text": [
      "Training Epoch 1: 100%|██████████| 2/2 [00:09<00:00,  4.75s/it, loss=1.77]\n"
     ]
    },
    {
     "name": "stdout",
     "output_type": "stream",
     "text": [
      "Epoch 1 Loss: 4.0283\n",
      "Validation Metrics (Precision: 0.7483, Recall: 0.7483, F1: 0.7483)\n",
      "Epoch 2/3\n"
     ]
    },
    {
     "name": "stderr",
     "output_type": "stream",
     "text": [
      "Training Epoch 2: 100%|██████████| 2/2 [00:08<00:00,  4.34s/it, loss=1.06]\n"
     ]
    },
    {
     "name": "stdout",
     "output_type": "stream",
     "text": [
      "Epoch 2 Loss: 2.4433\n",
      "Validation Metrics (Precision: 0.7483, Recall: 0.7483, F1: 0.7483)\n",
      "Epoch 3/3\n"
     ]
    },
    {
     "name": "stderr",
     "output_type": "stream",
     "text": [
      "Training Epoch 3: 100%|██████████| 2/2 [00:09<00:00,  4.91s/it, loss=0.901]\n"
     ]
    },
    {
     "name": "stdout",
     "output_type": "stream",
     "text": [
      "Epoch 3 Loss: 1.9605\n",
      "Validation Metrics (Precision: 0.7483, Recall: 0.7483, F1: 0.7483)\n",
      "Test Metrics (Precision: 0.7664, Recall: 0.7664, F1: 0.7664)\n",
      "\n",
      "Best Model for bert-base-cased (small): saved_models/bert-base-cased\n",
      "Best Hyperparameters: {'batch_size': 8, 'learning_rate': 5e-05, 'weight_decay': 0.0}\n",
      "Best F1-Score: 0.7704\n",
      "\n",
      "Tuning and evaluating bert-large-cased (medium)...\n",
      "\n",
      "Hyperparameters: {'batch_size': 8, 'learning_rate': 5e-06, 'weight_decay': 0.0}\n"
     ]
    },
    {
     "name": "stderr",
     "output_type": "stream",
     "text": [
      "Map: 100%|██████████| 1248/1248 [00:00<00:00, 4992.03 examples/s]\n"
     ]
    },
    {
     "name": "stdout",
     "output_type": "stream",
     "text": [
      "train_dataset_30_0: 30 samples\n",
      "val_dataset_30_0: 30 samples\n",
      "test_dataset_30_0: 30 samples\n"
     ]
    },
    {
     "name": "stderr",
     "output_type": "stream",
     "text": [
      "Some weights of BertForTokenClassification were not initialized from the model checkpoint at bert-large-cased and are newly initialized: ['classifier.bias', 'classifier.weight']\n",
      "You should probably TRAIN this model on a down-stream task to be able to use it for predictions and inference.\n"
     ]
    },
    {
     "name": "stdout",
     "output_type": "stream",
     "text": [
      "Epoch 1/3\n"
     ]
    },
    {
     "name": "stderr",
     "output_type": "stream",
     "text": [
      "Training Epoch 1: 100%|██████████| 4/4 [00:17<00:00,  4.48s/it, loss=2.19]\n"
     ]
    },
    {
     "name": "stdout",
     "output_type": "stream",
     "text": [
      "Epoch 1 Loss: 9.3426\n",
      "Validation Metrics (Precision: 0.3758, Recall: 0.3758, F1: 0.3758)\n",
      "Epoch 2/3\n"
     ]
    },
    {
     "name": "stderr",
     "output_type": "stream",
     "text": [
      "Training Epoch 2: 100%|██████████| 4/4 [00:28<00:00,  7.01s/it, loss=1.78]\n"
     ]
    },
    {
     "name": "stdout",
     "output_type": "stream",
     "text": [
      "Epoch 2 Loss: 7.6675\n",
      "Validation Metrics (Precision: 0.6171, Recall: 0.6171, F1: 0.6171)\n",
      "Epoch 3/3\n"
     ]
    },
    {
     "name": "stderr",
     "output_type": "stream",
     "text": [
      "Training Epoch 3: 100%|██████████| 4/4 [00:19<00:00,  4.75s/it, loss=1.7] \n"
     ]
    },
    {
     "name": "stdout",
     "output_type": "stream",
     "text": [
      "Epoch 3 Loss: 6.8593\n",
      "Validation Metrics (Precision: 0.6692, Recall: 0.6692, F1: 0.6692)\n",
      "Test Metrics (Precision: 0.7032, Recall: 0.7032, F1: 0.7032)\n",
      "New best model found for bert-large-cased with F1: 0.7032\n",
      "\n",
      "Hyperparameters: {'batch_size': 8, 'learning_rate': 5e-06, 'weight_decay': 0.01}\n"
     ]
    },
    {
     "name": "stderr",
     "output_type": "stream",
     "text": [
      "Map: 100%|██████████| 1248/1248 [00:00<00:00, 3417.65 examples/s]\n",
      "Some weights of BertForTokenClassification were not initialized from the model checkpoint at bert-large-cased and are newly initialized: ['classifier.bias', 'classifier.weight']\n",
      "You should probably TRAIN this model on a down-stream task to be able to use it for predictions and inference.\n"
     ]
    },
    {
     "name": "stdout",
     "output_type": "stream",
     "text": [
      "train_dataset_30_0: 30 samples\n",
      "val_dataset_30_0: 30 samples\n",
      "test_dataset_30_0: 30 samples\n",
      "Epoch 1/3\n"
     ]
    },
    {
     "name": "stderr",
     "output_type": "stream",
     "text": [
      "Training Epoch 1: 100%|██████████| 4/4 [00:26<00:00,  6.69s/it, loss=1.98]\n"
     ]
    },
    {
     "name": "stdout",
     "output_type": "stream",
     "text": [
      "Epoch 1 Loss: 8.7572\n",
      "Validation Metrics (Precision: 0.5394, Recall: 0.5394, F1: 0.5394)\n",
      "Epoch 2/3\n"
     ]
    },
    {
     "name": "stderr",
     "output_type": "stream",
     "text": [
      "Training Epoch 2: 100%|██████████| 4/4 [00:22<00:00,  5.60s/it, loss=1.65]\n"
     ]
    },
    {
     "name": "stdout",
     "output_type": "stream",
     "text": [
      "Epoch 2 Loss: 7.1626\n",
      "Validation Metrics (Precision: 0.7046, Recall: 0.7046, F1: 0.7046)\n",
      "Epoch 3/3\n"
     ]
    },
    {
     "name": "stderr",
     "output_type": "stream",
     "text": [
      "Training Epoch 3: 100%|██████████| 4/4 [00:19<00:00,  4.89s/it, loss=1.55]\n"
     ]
    },
    {
     "name": "stdout",
     "output_type": "stream",
     "text": [
      "Epoch 3 Loss: 6.4346\n",
      "Validation Metrics (Precision: 0.7291, Recall: 0.7291, F1: 0.7291)\n",
      "Test Metrics (Precision: 0.7380, Recall: 0.7380, F1: 0.7380)\n",
      "New best model found for bert-large-cased with F1: 0.7380\n",
      "\n",
      "Hyperparameters: {'batch_size': 8, 'learning_rate': 2e-05, 'weight_decay': 0.0}\n"
     ]
    },
    {
     "name": "stderr",
     "output_type": "stream",
     "text": [
      "Map: 100%|██████████| 1248/1248 [00:00<00:00, 3739.46 examples/s]\n"
     ]
    },
    {
     "name": "stdout",
     "output_type": "stream",
     "text": [
      "train_dataset_30_0: 30 samples\n",
      "val_dataset_30_0: 30 samples\n",
      "test_dataset_30_0: 30 samples\n"
     ]
    },
    {
     "name": "stderr",
     "output_type": "stream",
     "text": [
      "Some weights of BertForTokenClassification were not initialized from the model checkpoint at bert-large-cased and are newly initialized: ['classifier.bias', 'classifier.weight']\n",
      "You should probably TRAIN this model on a down-stream task to be able to use it for predictions and inference.\n"
     ]
    },
    {
     "name": "stdout",
     "output_type": "stream",
     "text": [
      "Epoch 1/3\n"
     ]
    },
    {
     "name": "stderr",
     "output_type": "stream",
     "text": [
      "Training Epoch 1: 100%|██████████| 4/4 [00:25<00:00,  6.44s/it, loss=1.5] \n"
     ]
    },
    {
     "name": "stdout",
     "output_type": "stream",
     "text": [
      "Epoch 1 Loss: 7.6200\n",
      "Validation Metrics (Precision: 0.7470, Recall: 0.7470, F1: 0.7470)\n",
      "Epoch 2/3\n"
     ]
    },
    {
     "name": "stderr",
     "output_type": "stream",
     "text": [
      "Training Epoch 2: 100%|██████████| 4/4 [00:20<00:00,  5.08s/it, loss=0.746]\n"
     ]
    },
    {
     "name": "stdout",
     "output_type": "stream",
     "text": [
      "Epoch 2 Loss: 3.8697\n",
      "Validation Metrics (Precision: 0.7483, Recall: 0.7483, F1: 0.7483)\n",
      "Epoch 3/3\n"
     ]
    },
    {
     "name": "stderr",
     "output_type": "stream",
     "text": [
      "Training Epoch 3: 100%|██████████| 4/4 [00:18<00:00,  4.61s/it, loss=0.973]\n"
     ]
    },
    {
     "name": "stdout",
     "output_type": "stream",
     "text": [
      "Epoch 3 Loss: 3.5487\n",
      "Validation Metrics (Precision: 0.7483, Recall: 0.7483, F1: 0.7483)\n",
      "Test Metrics (Precision: 0.7660, Recall: 0.7660, F1: 0.7660)\n",
      "New best model found for bert-large-cased with F1: 0.7660\n",
      "\n",
      "Hyperparameters: {'batch_size': 8, 'learning_rate': 2e-05, 'weight_decay': 0.01}\n"
     ]
    },
    {
     "name": "stderr",
     "output_type": "stream",
     "text": [
      "Map: 100%|██████████| 1248/1248 [00:00<00:00, 4727.24 examples/s]\n",
      "Some weights of BertForTokenClassification were not initialized from the model checkpoint at bert-large-cased and are newly initialized: ['classifier.bias', 'classifier.weight']\n",
      "You should probably TRAIN this model on a down-stream task to be able to use it for predictions and inference.\n"
     ]
    },
    {
     "name": "stdout",
     "output_type": "stream",
     "text": [
      "train_dataset_30_0: 30 samples\n",
      "val_dataset_30_0: 30 samples\n",
      "test_dataset_30_0: 30 samples\n",
      "Epoch 1/3\n"
     ]
    },
    {
     "name": "stderr",
     "output_type": "stream",
     "text": [
      "Training Epoch 1: 100%|██████████| 4/4 [00:30<00:00,  7.71s/it, loss=1.25]\n"
     ]
    },
    {
     "name": "stdout",
     "output_type": "stream",
     "text": [
      "Epoch 1 Loss: 7.1659\n",
      "Validation Metrics (Precision: 0.7497, Recall: 0.7497, F1: 0.7497)\n",
      "Epoch 2/3\n"
     ]
    },
    {
     "name": "stderr",
     "output_type": "stream",
     "text": [
      "Training Epoch 2: 100%|██████████| 4/4 [00:25<00:00,  6.45s/it, loss=0.936]\n"
     ]
    },
    {
     "name": "stdout",
     "output_type": "stream",
     "text": [
      "Epoch 2 Loss: 3.9183\n",
      "Validation Metrics (Precision: 0.7483, Recall: 0.7483, F1: 0.7483)\n",
      "Epoch 3/3\n"
     ]
    },
    {
     "name": "stderr",
     "output_type": "stream",
     "text": [
      "Training Epoch 3: 100%|██████████| 4/4 [00:24<00:00,  6.24s/it, loss=0.836]\n"
     ]
    },
    {
     "name": "stdout",
     "output_type": "stream",
     "text": [
      "Epoch 3 Loss: 3.3870\n",
      "Validation Metrics (Precision: 0.7483, Recall: 0.7483, F1: 0.7483)\n",
      "Test Metrics (Precision: 0.7664, Recall: 0.7664, F1: 0.7664)\n",
      "New best model found for bert-large-cased with F1: 0.7664\n",
      "\n",
      "Hyperparameters: {'batch_size': 8, 'learning_rate': 5e-05, 'weight_decay': 0.0}\n"
     ]
    },
    {
     "name": "stderr",
     "output_type": "stream",
     "text": [
      "Map: 100%|██████████| 1248/1248 [00:00<00:00, 4802.81 examples/s]\n",
      "Some weights of BertForTokenClassification were not initialized from the model checkpoint at bert-large-cased and are newly initialized: ['classifier.bias', 'classifier.weight']\n",
      "You should probably TRAIN this model on a down-stream task to be able to use it for predictions and inference.\n"
     ]
    },
    {
     "name": "stdout",
     "output_type": "stream",
     "text": [
      "train_dataset_30_0: 30 samples\n",
      "val_dataset_30_0: 30 samples\n",
      "test_dataset_30_0: 30 samples\n",
      "Epoch 1/3\n"
     ]
    },
    {
     "name": "stderr",
     "output_type": "stream",
     "text": [
      "Training Epoch 1: 100%|██████████| 4/4 [00:31<00:00,  7.83s/it, loss=0.728]\n"
     ]
    },
    {
     "name": "stdout",
     "output_type": "stream",
     "text": [
      "Epoch 1 Loss: 5.3958\n",
      "Validation Metrics (Precision: 0.7483, Recall: 0.7483, F1: 0.7483)\n",
      "Epoch 2/3\n"
     ]
    },
    {
     "name": "stderr",
     "output_type": "stream",
     "text": [
      "Training Epoch 2: 100%|██████████| 4/4 [00:23<00:00,  5.78s/it, loss=0.764]\n"
     ]
    },
    {
     "name": "stdout",
     "output_type": "stream",
     "text": [
      "Epoch 2 Loss: 3.4807\n",
      "Validation Metrics (Precision: 0.7571, Recall: 0.7571, F1: 0.7571)\n",
      "Epoch 3/3\n"
     ]
    },
    {
     "name": "stderr",
     "output_type": "stream",
     "text": [
      "Training Epoch 3: 100%|██████████| 4/4 [00:20<00:00,  5.03s/it, loss=0.58] \n"
     ]
    },
    {
     "name": "stdout",
     "output_type": "stream",
     "text": [
      "Epoch 3 Loss: 2.8058\n",
      "Validation Metrics (Precision: 0.7699, Recall: 0.7699, F1: 0.7699)\n",
      "Test Metrics (Precision: 0.7851, Recall: 0.7851, F1: 0.7851)\n",
      "New best model found for bert-large-cased with F1: 0.7851\n",
      "\n",
      "Hyperparameters: {'batch_size': 8, 'learning_rate': 5e-05, 'weight_decay': 0.01}\n"
     ]
    },
    {
     "name": "stderr",
     "output_type": "stream",
     "text": [
      "Map: 100%|██████████| 1248/1248 [00:00<00:00, 3662.99 examples/s]\n"
     ]
    },
    {
     "name": "stdout",
     "output_type": "stream",
     "text": [
      "train_dataset_30_0: 30 samples\n",
      "val_dataset_30_0: 30 samples\n",
      "test_dataset_30_0: 30 samples\n"
     ]
    },
    {
     "name": "stderr",
     "output_type": "stream",
     "text": [
      "Some weights of BertForTokenClassification were not initialized from the model checkpoint at bert-large-cased and are newly initialized: ['classifier.bias', 'classifier.weight']\n",
      "You should probably TRAIN this model on a down-stream task to be able to use it for predictions and inference.\n"
     ]
    },
    {
     "name": "stdout",
     "output_type": "stream",
     "text": [
      "Epoch 1/3\n"
     ]
    },
    {
     "name": "stderr",
     "output_type": "stream",
     "text": [
      "Training Epoch 1: 100%|██████████| 4/4 [00:30<00:00,  7.56s/it, loss=0.894]\n"
     ]
    },
    {
     "name": "stdout",
     "output_type": "stream",
     "text": [
      "Epoch 1 Loss: 6.0389\n",
      "Validation Metrics (Precision: 0.7483, Recall: 0.7483, F1: 0.7483)\n",
      "Epoch 2/3\n"
     ]
    },
    {
     "name": "stderr",
     "output_type": "stream",
     "text": [
      "Training Epoch 2: 100%|██████████| 4/4 [00:26<00:00,  6.60s/it, loss=0.666]\n"
     ]
    },
    {
     "name": "stdout",
     "output_type": "stream",
     "text": [
      "Epoch 2 Loss: 3.3377\n",
      "Validation Metrics (Precision: 0.7537, Recall: 0.7537, F1: 0.7537)\n",
      "Epoch 3/3\n"
     ]
    },
    {
     "name": "stderr",
     "output_type": "stream",
     "text": [
      "Training Epoch 3: 100%|██████████| 4/4 [00:24<00:00,  6.15s/it, loss=0.512]\n"
     ]
    },
    {
     "name": "stdout",
     "output_type": "stream",
     "text": [
      "Epoch 3 Loss: 2.7575\n",
      "Validation Metrics (Precision: 0.7678, Recall: 0.7678, F1: 0.7678)\n",
      "Test Metrics (Precision: 0.7844, Recall: 0.7844, F1: 0.7844)\n",
      "\n",
      "Hyperparameters: {'batch_size': 16, 'learning_rate': 5e-06, 'weight_decay': 0.0}\n"
     ]
    },
    {
     "name": "stderr",
     "output_type": "stream",
     "text": [
      "Map: 100%|██████████| 1248/1248 [00:00<00:00, 4876.95 examples/s]\n"
     ]
    },
    {
     "name": "stdout",
     "output_type": "stream",
     "text": [
      "train_dataset_30_0: 30 samples\n",
      "val_dataset_30_0: 30 samples\n",
      "test_dataset_30_0: 30 samples\n"
     ]
    },
    {
     "name": "stderr",
     "output_type": "stream",
     "text": [
      "Some weights of BertForTokenClassification were not initialized from the model checkpoint at bert-large-cased and are newly initialized: ['classifier.bias', 'classifier.weight']\n",
      "You should probably TRAIN this model on a down-stream task to be able to use it for predictions and inference.\n"
     ]
    },
    {
     "name": "stdout",
     "output_type": "stream",
     "text": [
      "Epoch 1/3\n"
     ]
    },
    {
     "name": "stderr",
     "output_type": "stream",
     "text": [
      "Training Epoch 1: 100%|██████████| 2/2 [00:43<00:00, 21.95s/it, loss=2.27]\n"
     ]
    },
    {
     "name": "stdout",
     "output_type": "stream",
     "text": [
      "Epoch 1 Loss: 4.7386\n",
      "Validation Metrics (Precision: 0.3052, Recall: 0.3052, F1: 0.3052)\n",
      "Epoch 2/3\n"
     ]
    },
    {
     "name": "stderr",
     "output_type": "stream",
     "text": [
      "Training Epoch 2: 100%|██████████| 2/2 [00:48<00:00, 24.48s/it, loss=2.04]\n"
     ]
    },
    {
     "name": "stdout",
     "output_type": "stream",
     "text": [
      "Epoch 2 Loss: 4.2061\n",
      "Validation Metrics (Precision: 0.5114, Recall: 0.5114, F1: 0.5114)\n",
      "Epoch 3/3\n"
     ]
    },
    {
     "name": "stderr",
     "output_type": "stream",
     "text": [
      "Training Epoch 3: 100%|██████████| 2/2 [00:56<00:00, 28.26s/it, loss=1.94]\n"
     ]
    },
    {
     "name": "stdout",
     "output_type": "stream",
     "text": [
      "Epoch 3 Loss: 3.9177\n",
      "Validation Metrics (Precision: 0.5777, Recall: 0.5777, F1: 0.5777)\n",
      "Test Metrics (Precision: 0.6073, Recall: 0.6073, F1: 0.6073)\n",
      "\n",
      "Hyperparameters: {'batch_size': 16, 'learning_rate': 5e-06, 'weight_decay': 0.01}\n"
     ]
    },
    {
     "name": "stderr",
     "output_type": "stream",
     "text": [
      "Map: 100%|██████████| 1248/1248 [00:00<00:00, 4659.25 examples/s]\n",
      "Some weights of BertForTokenClassification were not initialized from the model checkpoint at bert-large-cased and are newly initialized: ['classifier.bias', 'classifier.weight']\n",
      "You should probably TRAIN this model on a down-stream task to be able to use it for predictions and inference.\n"
     ]
    },
    {
     "name": "stdout",
     "output_type": "stream",
     "text": [
      "train_dataset_30_0: 30 samples\n",
      "val_dataset_30_0: 30 samples\n",
      "test_dataset_30_0: 30 samples\n",
      "Epoch 1/3\n"
     ]
    },
    {
     "name": "stderr",
     "output_type": "stream",
     "text": [
      "Training Epoch 1: 100%|██████████| 2/2 [00:48<00:00, 24.06s/it, loss=2.38]\n"
     ]
    },
    {
     "name": "stdout",
     "output_type": "stream",
     "text": [
      "Epoch 1 Loss: 4.8628\n",
      "Validation Metrics (Precision: 0.2544, Recall: 0.2544, F1: 0.2544)\n",
      "Epoch 2/3\n"
     ]
    },
    {
     "name": "stderr",
     "output_type": "stream",
     "text": [
      "Training Epoch 2: 100%|██████████| 2/2 [00:53<00:00, 26.80s/it, loss=2.13]\n"
     ]
    },
    {
     "name": "stdout",
     "output_type": "stream",
     "text": [
      "Epoch 2 Loss: 4.3700\n",
      "Validation Metrics (Precision: 0.4226, Recall: 0.4226, F1: 0.4226)\n",
      "Epoch 3/3\n"
     ]
    },
    {
     "name": "stderr",
     "output_type": "stream",
     "text": [
      "Training Epoch 3: 100%|██████████| 2/2 [00:44<00:00, 22.21s/it, loss=2.03]\n"
     ]
    },
    {
     "name": "stdout",
     "output_type": "stream",
     "text": [
      "Epoch 3 Loss: 4.0933\n",
      "Validation Metrics (Precision: 0.4879, Recall: 0.4879, F1: 0.4879)\n",
      "Test Metrics (Precision: 0.4890, Recall: 0.4890, F1: 0.4890)\n",
      "\n",
      "Hyperparameters: {'batch_size': 16, 'learning_rate': 2e-05, 'weight_decay': 0.0}\n"
     ]
    },
    {
     "name": "stderr",
     "output_type": "stream",
     "text": [
      "Map: 100%|██████████| 1248/1248 [00:00<00:00, 4556.96 examples/s]\n",
      "Some weights of BertForTokenClassification were not initialized from the model checkpoint at bert-large-cased and are newly initialized: ['classifier.bias', 'classifier.weight']\n",
      "You should probably TRAIN this model on a down-stream task to be able to use it for predictions and inference.\n"
     ]
    },
    {
     "name": "stdout",
     "output_type": "stream",
     "text": [
      "train_dataset_30_0: 30 samples\n",
      "val_dataset_30_0: 30 samples\n",
      "test_dataset_30_0: 30 samples\n",
      "Epoch 1/3\n"
     ]
    },
    {
     "name": "stderr",
     "output_type": "stream",
     "text": [
      "Training Epoch 1: 100%|██████████| 2/2 [00:46<00:00, 23.00s/it, loss=1.86]\n"
     ]
    },
    {
     "name": "stdout",
     "output_type": "stream",
     "text": [
      "Epoch 1 Loss: 4.3150\n",
      "Validation Metrics (Precision: 0.7436, Recall: 0.7436, F1: 0.7436)\n",
      "Epoch 2/3\n"
     ]
    },
    {
     "name": "stderr",
     "output_type": "stream",
     "text": [
      "Training Epoch 2: 100%|██████████| 2/2 [00:56<00:00, 28.14s/it, loss=1.23]\n"
     ]
    },
    {
     "name": "stdout",
     "output_type": "stream",
     "text": [
      "Epoch 2 Loss: 2.6382\n",
      "Validation Metrics (Precision: 0.7493, Recall: 0.7493, F1: 0.7493)\n",
      "Epoch 3/3\n"
     ]
    },
    {
     "name": "stderr",
     "output_type": "stream",
     "text": [
      "Training Epoch 3: 100%|██████████| 2/2 [00:45<00:00, 22.88s/it, loss=0.896]\n"
     ]
    },
    {
     "name": "stdout",
     "output_type": "stream",
     "text": [
      "Epoch 3 Loss: 2.0315\n",
      "Validation Metrics (Precision: 0.7493, Recall: 0.7493, F1: 0.7493)\n",
      "Test Metrics (Precision: 0.7637, Recall: 0.7637, F1: 0.7637)\n",
      "\n",
      "Hyperparameters: {'batch_size': 16, 'learning_rate': 2e-05, 'weight_decay': 0.01}\n"
     ]
    },
    {
     "name": "stderr",
     "output_type": "stream",
     "text": [
      "Map: 100%|██████████| 1248/1248 [00:00<00:00, 4604.43 examples/s]\n",
      "Some weights of BertForTokenClassification were not initialized from the model checkpoint at bert-large-cased and are newly initialized: ['classifier.bias', 'classifier.weight']\n",
      "You should probably TRAIN this model on a down-stream task to be able to use it for predictions and inference.\n"
     ]
    },
    {
     "name": "stdout",
     "output_type": "stream",
     "text": [
      "train_dataset_30_0: 30 samples\n",
      "val_dataset_30_0: 30 samples\n",
      "test_dataset_30_0: 30 samples\n",
      "Epoch 1/3\n"
     ]
    },
    {
     "name": "stderr",
     "output_type": "stream",
     "text": [
      "Training Epoch 1: 100%|██████████| 2/2 [01:01<00:00, 30.81s/it, loss=1.79]\n"
     ]
    },
    {
     "name": "stdout",
     "output_type": "stream",
     "text": [
      "Epoch 1 Loss: 4.1148\n",
      "Validation Metrics (Precision: 0.7446, Recall: 0.7446, F1: 0.7446)\n",
      "Epoch 2/3\n"
     ]
    },
    {
     "name": "stderr",
     "output_type": "stream",
     "text": [
      "Training Epoch 2: 100%|██████████| 2/2 [01:04<00:00, 32.40s/it, loss=1.12]\n"
     ]
    },
    {
     "name": "stdout",
     "output_type": "stream",
     "text": [
      "Epoch 2 Loss: 2.5590\n",
      "Validation Metrics (Precision: 0.7483, Recall: 0.7483, F1: 0.7483)\n",
      "Epoch 3/3\n"
     ]
    },
    {
     "name": "stderr",
     "output_type": "stream",
     "text": [
      "Training Epoch 3: 100%|██████████| 2/2 [00:58<00:00, 29.06s/it, loss=0.961]\n"
     ]
    },
    {
     "name": "stdout",
     "output_type": "stream",
     "text": [
      "Epoch 3 Loss: 2.0663\n",
      "Validation Metrics (Precision: 0.7483, Recall: 0.7483, F1: 0.7483)\n",
      "Test Metrics (Precision: 0.7664, Recall: 0.7664, F1: 0.7664)\n",
      "\n",
      "Hyperparameters: {'batch_size': 16, 'learning_rate': 5e-05, 'weight_decay': 0.0}\n"
     ]
    },
    {
     "name": "stderr",
     "output_type": "stream",
     "text": [
      "Map: 100%|██████████| 1248/1248 [00:00<00:00, 4197.70 examples/s]\n"
     ]
    },
    {
     "name": "stdout",
     "output_type": "stream",
     "text": [
      "train_dataset_30_0: 30 samples\n",
      "val_dataset_30_0: 30 samples\n",
      "test_dataset_30_0: 30 samples\n"
     ]
    },
    {
     "name": "stderr",
     "output_type": "stream",
     "text": [
      "Some weights of BertForTokenClassification were not initialized from the model checkpoint at bert-large-cased and are newly initialized: ['classifier.bias', 'classifier.weight']\n",
      "You should probably TRAIN this model on a down-stream task to be able to use it for predictions and inference.\n"
     ]
    },
    {
     "name": "stdout",
     "output_type": "stream",
     "text": [
      "Epoch 1/3\n"
     ]
    },
    {
     "name": "stderr",
     "output_type": "stream",
     "text": [
      "Training Epoch 1: 100%|██████████| 2/2 [00:37<00:00, 18.69s/it, loss=1.27]\n"
     ]
    },
    {
     "name": "stdout",
     "output_type": "stream",
     "text": [
      "Epoch 1 Loss: 3.5963\n",
      "Validation Metrics (Precision: 0.7483, Recall: 0.7483, F1: 0.7483)\n",
      "Epoch 2/3\n"
     ]
    },
    {
     "name": "stderr",
     "output_type": "stream",
     "text": [
      "Training Epoch 2: 100%|██████████| 2/2 [00:42<00:00, 21.02s/it, loss=0.813]\n"
     ]
    },
    {
     "name": "stdout",
     "output_type": "stream",
     "text": [
      "Epoch 2 Loss: 1.8349\n",
      "Validation Metrics (Precision: 0.7483, Recall: 0.7483, F1: 0.7483)\n",
      "Epoch 3/3\n"
     ]
    },
    {
     "name": "stderr",
     "output_type": "stream",
     "text": [
      "Training Epoch 3: 100%|██████████| 2/2 [00:41<00:00, 20.99s/it, loss=0.795]\n"
     ]
    },
    {
     "name": "stdout",
     "output_type": "stream",
     "text": [
      "Epoch 3 Loss: 1.6436\n",
      "Validation Metrics (Precision: 0.7483, Recall: 0.7483, F1: 0.7483)\n",
      "Test Metrics (Precision: 0.7664, Recall: 0.7664, F1: 0.7664)\n",
      "\n",
      "Hyperparameters: {'batch_size': 16, 'learning_rate': 5e-05, 'weight_decay': 0.01}\n"
     ]
    },
    {
     "name": "stderr",
     "output_type": "stream",
     "text": [
      "Map: 100%|██████████| 1248/1248 [00:00<00:00, 4568.70 examples/s]\n",
      "Some weights of BertForTokenClassification were not initialized from the model checkpoint at bert-large-cased and are newly initialized: ['classifier.bias', 'classifier.weight']\n",
      "You should probably TRAIN this model on a down-stream task to be able to use it for predictions and inference.\n"
     ]
    },
    {
     "name": "stdout",
     "output_type": "stream",
     "text": [
      "train_dataset_30_0: 30 samples\n",
      "val_dataset_30_0: 30 samples\n",
      "test_dataset_30_0: 30 samples\n",
      "Epoch 1/3\n"
     ]
    },
    {
     "name": "stderr",
     "output_type": "stream",
     "text": [
      "Training Epoch 1: 100%|██████████| 2/2 [00:47<00:00, 23.89s/it, loss=1.28]\n"
     ]
    },
    {
     "name": "stdout",
     "output_type": "stream",
     "text": [
      "Epoch 1 Loss: 3.7228\n",
      "Validation Metrics (Precision: 0.7463, Recall: 0.7463, F1: 0.7463)\n",
      "Epoch 2/3\n"
     ]
    },
    {
     "name": "stderr",
     "output_type": "stream",
     "text": [
      "Training Epoch 2: 100%|██████████| 2/2 [00:56<00:00, 28.46s/it, loss=0.74]\n"
     ]
    },
    {
     "name": "stdout",
     "output_type": "stream",
     "text": [
      "Epoch 2 Loss: 1.8478\n",
      "Validation Metrics (Precision: 0.7483, Recall: 0.7483, F1: 0.7483)\n",
      "Epoch 3/3\n"
     ]
    },
    {
     "name": "stderr",
     "output_type": "stream",
     "text": [
      "Training Epoch 3: 100%|██████████| 2/2 [00:49<00:00, 24.81s/it, loss=0.874]\n"
     ]
    },
    {
     "name": "stdout",
     "output_type": "stream",
     "text": [
      "Epoch 3 Loss: 1.6665\n",
      "Validation Metrics (Precision: 0.7483, Recall: 0.7483, F1: 0.7483)\n",
      "Test Metrics (Precision: 0.7660, Recall: 0.7660, F1: 0.7660)\n",
      "\n",
      "Best Model for bert-large-cased (medium): saved_models/bert-large-cased\n",
      "Best Hyperparameters: {'batch_size': 8, 'learning_rate': 5e-05, 'weight_decay': 0.0}\n",
      "Best F1-Score: 0.7851\n",
      "\n",
      "Tuning and evaluating roberta-large (large)...\n",
      "\n",
      "Hyperparameters: {'batch_size': 8, 'learning_rate': 5e-06, 'weight_decay': 0.0}\n"
     ]
    },
    {
     "name": "stderr",
     "output_type": "stream",
     "text": [
      "Map: 100%|██████████| 1248/1248 [00:00<00:00, 4947.05 examples/s]\n"
     ]
    },
    {
     "name": "stdout",
     "output_type": "stream",
     "text": [
      "train_dataset_30_0: 30 samples\n",
      "val_dataset_30_0: 30 samples\n",
      "test_dataset_30_0: 30 samples\n"
     ]
    },
    {
     "name": "stderr",
     "output_type": "stream",
     "text": [
      "Some weights of RobertaForTokenClassification were not initialized from the model checkpoint at roberta-large and are newly initialized: ['classifier.bias', 'classifier.weight']\n",
      "You should probably TRAIN this model on a down-stream task to be able to use it for predictions and inference.\n"
     ]
    },
    {
     "name": "stdout",
     "output_type": "stream",
     "text": [
      "Epoch 1/3\n"
     ]
    },
    {
     "name": "stderr",
     "output_type": "stream",
     "text": [
      "Training Epoch 1: 100%|██████████| 4/4 [00:25<00:00,  6.37s/it, loss=1.95]\n"
     ]
    },
    {
     "name": "stdout",
     "output_type": "stream",
     "text": [
      "Epoch 1 Loss: 8.5436\n",
      "Validation Metrics (Precision: 0.5488, Recall: 0.5488, F1: 0.5488)\n",
      "Epoch 2/3\n"
     ]
    },
    {
     "name": "stderr",
     "output_type": "stream",
     "text": [
      "Training Epoch 2: 100%|██████████| 4/4 [00:24<00:00,  6.11s/it, loss=1.77]\n"
     ]
    },
    {
     "name": "stdout",
     "output_type": "stream",
     "text": [
      "Epoch 2 Loss: 7.1918\n",
      "Validation Metrics (Precision: 0.7501, Recall: 0.7501, F1: 0.7501)\n",
      "Epoch 3/3\n"
     ]
    },
    {
     "name": "stderr",
     "output_type": "stream",
     "text": [
      "Training Epoch 3: 100%|██████████| 4/4 [00:30<00:00,  7.69s/it, loss=1.64]\n"
     ]
    },
    {
     "name": "stdout",
     "output_type": "stream",
     "text": [
      "Epoch 3 Loss: 6.4660\n",
      "Validation Metrics (Precision: 0.7617, Recall: 0.7617, F1: 0.7617)\n",
      "Test Metrics (Precision: 0.7723, Recall: 0.7723, F1: 0.7723)\n",
      "New best model found for roberta-large with F1: 0.7723\n",
      "\n",
      "Hyperparameters: {'batch_size': 8, 'learning_rate': 5e-06, 'weight_decay': 0.01}\n"
     ]
    },
    {
     "name": "stderr",
     "output_type": "stream",
     "text": [
      "Map: 100%|██████████| 1248/1248 [00:00<00:00, 4364.43 examples/s]\n",
      "Some weights of RobertaForTokenClassification were not initialized from the model checkpoint at roberta-large and are newly initialized: ['classifier.bias', 'classifier.weight']\n",
      "You should probably TRAIN this model on a down-stream task to be able to use it for predictions and inference.\n"
     ]
    },
    {
     "name": "stdout",
     "output_type": "stream",
     "text": [
      "train_dataset_30_0: 30 samples\n",
      "val_dataset_30_0: 30 samples\n",
      "test_dataset_30_0: 30 samples\n",
      "Epoch 1/3\n"
     ]
    },
    {
     "name": "stderr",
     "output_type": "stream",
     "text": [
      "Training Epoch 1: 100%|██████████| 4/4 [00:31<00:00,  7.77s/it, loss=1.84]\n"
     ]
    },
    {
     "name": "stdout",
     "output_type": "stream",
     "text": [
      "Epoch 1 Loss: 8.1622\n",
      "Validation Metrics (Precision: 0.5027, Recall: 0.5027, F1: 0.5027)\n",
      "Epoch 2/3\n"
     ]
    },
    {
     "name": "stderr",
     "output_type": "stream",
     "text": [
      "Training Epoch 2: 100%|██████████| 4/4 [00:24<00:00,  6.20s/it, loss=1.34]\n"
     ]
    },
    {
     "name": "stdout",
     "output_type": "stream",
     "text": [
      "Epoch 2 Loss: 6.4150\n",
      "Validation Metrics (Precision: 0.7229, Recall: 0.7229, F1: 0.7229)\n",
      "Epoch 3/3\n"
     ]
    },
    {
     "name": "stderr",
     "output_type": "stream",
     "text": [
      "Training Epoch 3: 100%|██████████| 4/4 [00:30<00:00,  7.60s/it, loss=1.43]\n"
     ]
    },
    {
     "name": "stdout",
     "output_type": "stream",
     "text": [
      "Epoch 3 Loss: 5.4933\n",
      "Validation Metrics (Precision: 0.7359, Recall: 0.7359, F1: 0.7359)\n",
      "Test Metrics (Precision: 0.7595, Recall: 0.7595, F1: 0.7595)\n",
      "\n",
      "Hyperparameters: {'batch_size': 8, 'learning_rate': 2e-05, 'weight_decay': 0.0}\n"
     ]
    },
    {
     "name": "stderr",
     "output_type": "stream",
     "text": [
      "Map: 100%|██████████| 1248/1248 [00:00<00:00, 4891.92 examples/s]\n"
     ]
    },
    {
     "name": "stdout",
     "output_type": "stream",
     "text": [
      "train_dataset_30_0: 30 samples\n",
      "val_dataset_30_0: 30 samples\n",
      "test_dataset_30_0: 30 samples\n"
     ]
    },
    {
     "name": "stderr",
     "output_type": "stream",
     "text": [
      "Some weights of RobertaForTokenClassification were not initialized from the model checkpoint at roberta-large and are newly initialized: ['classifier.bias', 'classifier.weight']\n",
      "You should probably TRAIN this model on a down-stream task to be able to use it for predictions and inference.\n"
     ]
    },
    {
     "name": "stdout",
     "output_type": "stream",
     "text": [
      "Epoch 1/3\n"
     ]
    },
    {
     "name": "stderr",
     "output_type": "stream",
     "text": [
      "Training Epoch 1: 100%|██████████| 4/4 [00:26<00:00,  6.50s/it, loss=1.55]\n"
     ]
    },
    {
     "name": "stdout",
     "output_type": "stream",
     "text": [
      "Epoch 1 Loss: 7.5179\n",
      "Validation Metrics (Precision: 0.7682, Recall: 0.7682, F1: 0.7682)\n",
      "Epoch 2/3\n"
     ]
    },
    {
     "name": "stderr",
     "output_type": "stream",
     "text": [
      "Training Epoch 2: 100%|██████████| 4/4 [00:31<00:00,  7.83s/it, loss=1.17] \n"
     ]
    },
    {
     "name": "stdout",
     "output_type": "stream",
     "text": [
      "Epoch 2 Loss: 4.0478\n",
      "Validation Metrics (Precision: 0.7671, Recall: 0.7671, F1: 0.7671)\n",
      "Epoch 3/3\n"
     ]
    },
    {
     "name": "stderr",
     "output_type": "stream",
     "text": [
      "Training Epoch 3: 100%|██████████| 4/4 [00:27<00:00,  6.85s/it, loss=0.705]\n"
     ]
    },
    {
     "name": "stdout",
     "output_type": "stream",
     "text": [
      "Epoch 3 Loss: 3.1623\n",
      "Validation Metrics (Precision: 0.7671, Recall: 0.7671, F1: 0.7671)\n",
      "Test Metrics (Precision: 0.7773, Recall: 0.7773, F1: 0.7773)\n",
      "New best model found for roberta-large with F1: 0.7773\n",
      "\n",
      "Hyperparameters: {'batch_size': 8, 'learning_rate': 2e-05, 'weight_decay': 0.01}\n"
     ]
    },
    {
     "name": "stderr",
     "output_type": "stream",
     "text": [
      "Map: 100%|██████████| 1248/1248 [00:00<00:00, 5032.03 examples/s]\n",
      "Some weights of RobertaForTokenClassification were not initialized from the model checkpoint at roberta-large and are newly initialized: ['classifier.bias', 'classifier.weight']\n",
      "You should probably TRAIN this model on a down-stream task to be able to use it for predictions and inference.\n"
     ]
    },
    {
     "name": "stdout",
     "output_type": "stream",
     "text": [
      "train_dataset_30_0: 30 samples\n",
      "val_dataset_30_0: 30 samples\n",
      "test_dataset_30_0: 30 samples\n",
      "Epoch 1/3\n"
     ]
    },
    {
     "name": "stderr",
     "output_type": "stream",
     "text": [
      "Training Epoch 1: 100%|██████████| 4/4 [00:21<00:00,  5.31s/it, loss=1.4] \n"
     ]
    },
    {
     "name": "stdout",
     "output_type": "stream",
     "text": [
      "Epoch 1 Loss: 9.3678\n",
      "Validation Metrics (Precision: 0.7468, Recall: 0.7468, F1: 0.7468)\n",
      "Epoch 2/3\n"
     ]
    },
    {
     "name": "stderr",
     "output_type": "stream",
     "text": [
      "Training Epoch 2: 100%|██████████| 4/4 [00:26<00:00,  6.64s/it, loss=0.817]\n"
     ]
    },
    {
     "name": "stdout",
     "output_type": "stream",
     "text": [
      "Epoch 2 Loss: 3.8476\n",
      "Validation Metrics (Precision: 0.7639, Recall: 0.7639, F1: 0.7639)\n",
      "Epoch 3/3\n"
     ]
    },
    {
     "name": "stderr",
     "output_type": "stream",
     "text": [
      "Training Epoch 3: 100%|██████████| 4/4 [00:29<00:00,  7.47s/it, loss=0.613]\n"
     ]
    },
    {
     "name": "stdout",
     "output_type": "stream",
     "text": [
      "Epoch 3 Loss: 3.2995\n",
      "Validation Metrics (Precision: 0.7653, Recall: 0.7653, F1: 0.7653)\n",
      "Test Metrics (Precision: 0.7759, Recall: 0.7759, F1: 0.7759)\n",
      "\n",
      "Hyperparameters: {'batch_size': 8, 'learning_rate': 5e-05, 'weight_decay': 0.0}\n"
     ]
    },
    {
     "name": "stderr",
     "output_type": "stream",
     "text": [
      "Map: 100%|██████████| 1248/1248 [00:00<00:00, 5041.03 examples/s]\n",
      "Some weights of RobertaForTokenClassification were not initialized from the model checkpoint at roberta-large and are newly initialized: ['classifier.bias', 'classifier.weight']\n",
      "You should probably TRAIN this model on a down-stream task to be able to use it for predictions and inference.\n"
     ]
    },
    {
     "name": "stdout",
     "output_type": "stream",
     "text": [
      "train_dataset_30_0: 30 samples\n",
      "val_dataset_30_0: 30 samples\n",
      "test_dataset_30_0: 30 samples\n",
      "Epoch 1/3\n"
     ]
    },
    {
     "name": "stderr",
     "output_type": "stream",
     "text": [
      "Training Epoch 1: 100%|██████████| 4/4 [00:25<00:00,  6.42s/it, loss=0.655]\n"
     ]
    },
    {
     "name": "stdout",
     "output_type": "stream",
     "text": [
      "Epoch 1 Loss: 5.8993\n",
      "Validation Metrics (Precision: 0.7671, Recall: 0.7671, F1: 0.7671)\n",
      "Epoch 2/3\n"
     ]
    },
    {
     "name": "stderr",
     "output_type": "stream",
     "text": [
      "Training Epoch 2: 100%|██████████| 4/4 [00:26<00:00,  6.50s/it, loss=0.606]\n"
     ]
    },
    {
     "name": "stdout",
     "output_type": "stream",
     "text": [
      "Epoch 2 Loss: 2.7021\n",
      "Validation Metrics (Precision: 0.7798, Recall: 0.7798, F1: 0.7798)\n",
      "Epoch 3/3\n"
     ]
    },
    {
     "name": "stderr",
     "output_type": "stream",
     "text": [
      "Training Epoch 3: 100%|██████████| 4/4 [00:27<00:00,  6.89s/it, loss=0.549]\n"
     ]
    },
    {
     "name": "stdout",
     "output_type": "stream",
     "text": [
      "Epoch 3 Loss: 2.1131\n",
      "Validation Metrics (Precision: 0.8114, Recall: 0.8114, F1: 0.8114)\n",
      "Test Metrics (Precision: 0.8278, Recall: 0.8278, F1: 0.8278)\n",
      "New best model found for roberta-large with F1: 0.8278\n",
      "\n",
      "Hyperparameters: {'batch_size': 8, 'learning_rate': 5e-05, 'weight_decay': 0.01}\n"
     ]
    },
    {
     "name": "stderr",
     "output_type": "stream",
     "text": [
      "Map: 100%|██████████| 1248/1248 [00:00<00:00, 5012.25 examples/s]\n",
      "Some weights of RobertaForTokenClassification were not initialized from the model checkpoint at roberta-large and are newly initialized: ['classifier.bias', 'classifier.weight']\n",
      "You should probably TRAIN this model on a down-stream task to be able to use it for predictions and inference.\n"
     ]
    },
    {
     "name": "stdout",
     "output_type": "stream",
     "text": [
      "train_dataset_30_0: 30 samples\n",
      "val_dataset_30_0: 30 samples\n",
      "test_dataset_30_0: 30 samples\n",
      "Epoch 1/3\n"
     ]
    },
    {
     "name": "stderr",
     "output_type": "stream",
     "text": [
      "Training Epoch 1: 100%|██████████| 4/4 [00:22<00:00,  5.58s/it, loss=1.13]\n"
     ]
    },
    {
     "name": "stdout",
     "output_type": "stream",
     "text": [
      "Epoch 1 Loss: 6.5140\n",
      "Validation Metrics (Precision: 0.7639, Recall: 0.7639, F1: 0.7639)\n",
      "Epoch 2/3\n"
     ]
    },
    {
     "name": "stderr",
     "output_type": "stream",
     "text": [
      "Training Epoch 2: 100%|██████████| 4/4 [00:27<00:00,  6.79s/it, loss=0.675]\n"
     ]
    },
    {
     "name": "stdout",
     "output_type": "stream",
     "text": [
      "Epoch 2 Loss: 3.1117\n",
      "Validation Metrics (Precision: 0.7690, Recall: 0.7690, F1: 0.7690)\n",
      "Epoch 3/3\n"
     ]
    },
    {
     "name": "stderr",
     "output_type": "stream",
     "text": [
      "Training Epoch 3: 100%|██████████| 4/4 [00:25<00:00,  6.35s/it, loss=0.656]\n"
     ]
    },
    {
     "name": "stdout",
     "output_type": "stream",
     "text": [
      "Epoch 3 Loss: 2.5068\n",
      "Validation Metrics (Precision: 0.7773, Recall: 0.7773, F1: 0.7773)\n",
      "Test Metrics (Precision: 0.7862, Recall: 0.7862, F1: 0.7862)\n",
      "\n",
      "Hyperparameters: {'batch_size': 16, 'learning_rate': 5e-06, 'weight_decay': 0.0}\n"
     ]
    },
    {
     "name": "stderr",
     "output_type": "stream",
     "text": [
      "Map: 100%|██████████| 1248/1248 [00:00<00:00, 4843.97 examples/s]\n",
      "Some weights of RobertaForTokenClassification were not initialized from the model checkpoint at roberta-large and are newly initialized: ['classifier.bias', 'classifier.weight']\n",
      "You should probably TRAIN this model on a down-stream task to be able to use it for predictions and inference.\n"
     ]
    },
    {
     "name": "stdout",
     "output_type": "stream",
     "text": [
      "train_dataset_30_0: 30 samples\n",
      "val_dataset_30_0: 30 samples\n",
      "test_dataset_30_0: 30 samples\n",
      "Epoch 1/3\n"
     ]
    },
    {
     "name": "stderr",
     "output_type": "stream",
     "text": [
      "Training Epoch 1: 100%|██████████| 2/2 [00:43<00:00, 21.90s/it, loss=2.04]\n"
     ]
    },
    {
     "name": "stdout",
     "output_type": "stream",
     "text": [
      "Epoch 1 Loss: 4.1655\n",
      "Validation Metrics (Precision: 0.6866, Recall: 0.6866, F1: 0.6866)\n",
      "Epoch 2/3\n"
     ]
    },
    {
     "name": "stderr",
     "output_type": "stream",
     "text": [
      "Training Epoch 2: 100%|██████████| 2/2 [00:39<00:00, 19.56s/it, loss=1.83]\n"
     ]
    },
    {
     "name": "stdout",
     "output_type": "stream",
     "text": [
      "Epoch 2 Loss: 3.7353\n",
      "Validation Metrics (Precision: 0.7468, Recall: 0.7468, F1: 0.7468)\n",
      "Epoch 3/3\n"
     ]
    },
    {
     "name": "stderr",
     "output_type": "stream",
     "text": [
      "Training Epoch 3: 100%|██████████| 2/2 [00:41<00:00, 20.82s/it, loss=1.75]\n"
     ]
    },
    {
     "name": "stdout",
     "output_type": "stream",
     "text": [
      "Epoch 3 Loss: 3.5305\n",
      "Validation Metrics (Precision: 0.7548, Recall: 0.7548, F1: 0.7548)\n",
      "Test Metrics (Precision: 0.7684, Recall: 0.7684, F1: 0.7684)\n",
      "\n",
      "Hyperparameters: {'batch_size': 16, 'learning_rate': 5e-06, 'weight_decay': 0.01}\n"
     ]
    },
    {
     "name": "stderr",
     "output_type": "stream",
     "text": [
      "Map: 100%|██████████| 1248/1248 [00:00<00:00, 4922.36 examples/s]\n"
     ]
    },
    {
     "name": "stdout",
     "output_type": "stream",
     "text": [
      "train_dataset_30_0: 30 samples\n",
      "val_dataset_30_0: 30 samples\n",
      "test_dataset_30_0: 30 samples\n"
     ]
    },
    {
     "name": "stderr",
     "output_type": "stream",
     "text": [
      "Some weights of RobertaForTokenClassification were not initialized from the model checkpoint at roberta-large and are newly initialized: ['classifier.bias', 'classifier.weight']\n",
      "You should probably TRAIN this model on a down-stream task to be able to use it for predictions and inference.\n"
     ]
    },
    {
     "name": "stdout",
     "output_type": "stream",
     "text": [
      "Epoch 1/3\n"
     ]
    },
    {
     "name": "stderr",
     "output_type": "stream",
     "text": [
      "Training Epoch 1: 100%|██████████| 2/2 [00:47<00:00, 23.56s/it, loss=2.41]\n"
     ]
    },
    {
     "name": "stdout",
     "output_type": "stream",
     "text": [
      "Epoch 1 Loss: 4.9834\n",
      "Validation Metrics (Precision: 0.1110, Recall: 0.1110, F1: 0.1110)\n",
      "Epoch 2/3\n"
     ]
    },
    {
     "name": "stderr",
     "output_type": "stream",
     "text": [
      "Training Epoch 2: 100%|██████████| 2/2 [00:44<00:00, 22.38s/it, loss=2.14]\n"
     ]
    },
    {
     "name": "stdout",
     "output_type": "stream",
     "text": [
      "Epoch 2 Loss: 4.4172\n",
      "Validation Metrics (Precision: 0.2731, Recall: 0.2731, F1: 0.2731)\n",
      "Epoch 3/3\n"
     ]
    },
    {
     "name": "stderr",
     "output_type": "stream",
     "text": [
      "Training Epoch 3: 100%|██████████| 2/2 [00:44<00:00, 22.38s/it, loss=2.05]\n"
     ]
    },
    {
     "name": "stdout",
     "output_type": "stream",
     "text": [
      "Epoch 3 Loss: 4.0810\n",
      "Validation Metrics (Precision: 0.3758, Recall: 0.3758, F1: 0.3758)\n",
      "Test Metrics (Precision: 0.3849, Recall: 0.3849, F1: 0.3849)\n",
      "\n",
      "Hyperparameters: {'batch_size': 16, 'learning_rate': 2e-05, 'weight_decay': 0.0}\n"
     ]
    },
    {
     "name": "stderr",
     "output_type": "stream",
     "text": [
      "Map: 100%|██████████| 1248/1248 [00:00<00:00, 4918.54 examples/s]\n"
     ]
    },
    {
     "name": "stdout",
     "output_type": "stream",
     "text": [
      "train_dataset_30_0: 30 samples\n",
      "val_dataset_30_0: 30 samples\n",
      "test_dataset_30_0: 30 samples\n"
     ]
    },
    {
     "name": "stderr",
     "output_type": "stream",
     "text": [
      "Some weights of RobertaForTokenClassification were not initialized from the model checkpoint at roberta-large and are newly initialized: ['classifier.bias', 'classifier.weight']\n",
      "You should probably TRAIN this model on a down-stream task to be able to use it for predictions and inference.\n"
     ]
    },
    {
     "name": "stdout",
     "output_type": "stream",
     "text": [
      "Epoch 1/3\n"
     ]
    },
    {
     "name": "stderr",
     "output_type": "stream",
     "text": [
      "Training Epoch 1: 100%|██████████| 2/2 [00:43<00:00, 21.83s/it, loss=2.8] \n"
     ]
    },
    {
     "name": "stdout",
     "output_type": "stream",
     "text": [
      "Epoch 1 Loss: 6.3803\n",
      "Validation Metrics (Precision: 0.4204, Recall: 0.4204, F1: 0.4204)\n",
      "Epoch 2/3\n"
     ]
    },
    {
     "name": "stderr",
     "output_type": "stream",
     "text": [
      "Training Epoch 2: 100%|██████████| 2/2 [00:41<00:00, 20.98s/it, loss=1.4] \n"
     ]
    },
    {
     "name": "stdout",
     "output_type": "stream",
     "text": [
      "Epoch 2 Loss: 3.3268\n",
      "Validation Metrics (Precision: 0.7156, Recall: 0.7156, F1: 0.7156)\n",
      "Epoch 3/3\n"
     ]
    },
    {
     "name": "stderr",
     "output_type": "stream",
     "text": [
      "Training Epoch 3: 100%|██████████| 2/2 [00:46<00:00, 23.06s/it, loss=0.891]\n"
     ]
    },
    {
     "name": "stdout",
     "output_type": "stream",
     "text": [
      "Epoch 3 Loss: 2.1164\n",
      "Validation Metrics (Precision: 0.7403, Recall: 0.7403, F1: 0.7403)\n",
      "Test Metrics (Precision: 0.7531, Recall: 0.7531, F1: 0.7531)\n",
      "\n",
      "Hyperparameters: {'batch_size': 16, 'learning_rate': 2e-05, 'weight_decay': 0.01}\n"
     ]
    },
    {
     "name": "stderr",
     "output_type": "stream",
     "text": [
      "Map: 100%|██████████| 1248/1248 [00:00<00:00, 4846.95 examples/s]\n"
     ]
    },
    {
     "name": "stdout",
     "output_type": "stream",
     "text": [
      "train_dataset_30_0: 30 samples\n",
      "val_dataset_30_0: 30 samples\n",
      "test_dataset_30_0: 30 samples\n"
     ]
    },
    {
     "name": "stderr",
     "output_type": "stream",
     "text": [
      "Some weights of RobertaForTokenClassification were not initialized from the model checkpoint at roberta-large and are newly initialized: ['classifier.bias', 'classifier.weight']\n",
      "You should probably TRAIN this model on a down-stream task to be able to use it for predictions and inference.\n"
     ]
    },
    {
     "name": "stdout",
     "output_type": "stream",
     "text": [
      "Epoch 1/3\n"
     ]
    },
    {
     "name": "stderr",
     "output_type": "stream",
     "text": [
      "Training Epoch 1: 100%|██████████| 2/2 [00:42<00:00, 21.48s/it, loss=1.75]\n"
     ]
    },
    {
     "name": "stdout",
     "output_type": "stream",
     "text": [
      "Epoch 1 Loss: 4.0581\n",
      "Validation Metrics (Precision: 0.7570, Recall: 0.7570, F1: 0.7570)\n",
      "Epoch 2/3\n"
     ]
    },
    {
     "name": "stderr",
     "output_type": "stream",
     "text": [
      "Training Epoch 2: 100%|██████████| 2/2 [00:42<00:00, 21.36s/it, loss=1.01]\n"
     ]
    },
    {
     "name": "stdout",
     "output_type": "stream",
     "text": [
      "Epoch 2 Loss: 2.2375\n",
      "Validation Metrics (Precision: 0.7671, Recall: 0.7671, F1: 0.7671)\n",
      "Epoch 3/3\n"
     ]
    },
    {
     "name": "stderr",
     "output_type": "stream",
     "text": [
      "Training Epoch 3: 100%|██████████| 2/2 [00:38<00:00, 19.11s/it, loss=0.851]\n"
     ]
    },
    {
     "name": "stdout",
     "output_type": "stream",
     "text": [
      "Epoch 3 Loss: 1.7999\n",
      "Validation Metrics (Precision: 0.7671, Recall: 0.7671, F1: 0.7671)\n",
      "Test Metrics (Precision: 0.7769, Recall: 0.7769, F1: 0.7769)\n",
      "\n",
      "Hyperparameters: {'batch_size': 16, 'learning_rate': 5e-05, 'weight_decay': 0.0}\n"
     ]
    },
    {
     "name": "stderr",
     "output_type": "stream",
     "text": [
      "Map: 100%|██████████| 1248/1248 [00:00<00:00, 4928.14 examples/s]\n"
     ]
    },
    {
     "name": "stdout",
     "output_type": "stream",
     "text": [
      "train_dataset_30_0: 30 samples\n",
      "val_dataset_30_0: 30 samples\n",
      "test_dataset_30_0: 30 samples\n"
     ]
    },
    {
     "name": "stderr",
     "output_type": "stream",
     "text": [
      "Some weights of RobertaForTokenClassification were not initialized from the model checkpoint at roberta-large and are newly initialized: ['classifier.bias', 'classifier.weight']\n",
      "You should probably TRAIN this model on a down-stream task to be able to use it for predictions and inference.\n"
     ]
    },
    {
     "name": "stdout",
     "output_type": "stream",
     "text": [
      "Epoch 1/3\n"
     ]
    },
    {
     "name": "stderr",
     "output_type": "stream",
     "text": [
      "Training Epoch 1: 100%|██████████| 2/2 [00:30<00:00, 15.42s/it, loss=1.53]\n"
     ]
    },
    {
     "name": "stdout",
     "output_type": "stream",
     "text": [
      "Epoch 1 Loss: 4.7361\n",
      "Validation Metrics (Precision: 0.7552, Recall: 0.7552, F1: 0.7552)\n",
      "Epoch 2/3\n"
     ]
    },
    {
     "name": "stderr",
     "output_type": "stream",
     "text": [
      "Training Epoch 2: 100%|██████████| 2/2 [00:35<00:00, 17.55s/it, loss=0.912]\n"
     ]
    },
    {
     "name": "stdout",
     "output_type": "stream",
     "text": [
      "Epoch 2 Loss: 2.0044\n",
      "Validation Metrics (Precision: 0.7657, Recall: 0.7657, F1: 0.7657)\n",
      "Epoch 3/3\n"
     ]
    },
    {
     "name": "stderr",
     "output_type": "stream",
     "text": [
      "Training Epoch 3: 100%|██████████| 2/2 [00:35<00:00, 17.54s/it, loss=0.648]\n"
     ]
    },
    {
     "name": "stdout",
     "output_type": "stream",
     "text": [
      "Epoch 3 Loss: 1.4886\n",
      "Validation Metrics (Precision: 0.7686, Recall: 0.7686, F1: 0.7686)\n",
      "Test Metrics (Precision: 0.7784, Recall: 0.7784, F1: 0.7784)\n",
      "\n",
      "Hyperparameters: {'batch_size': 16, 'learning_rate': 5e-05, 'weight_decay': 0.01}\n"
     ]
    },
    {
     "name": "stderr",
     "output_type": "stream",
     "text": [
      "Map: 100%|██████████| 1248/1248 [00:00<00:00, 4817.64 examples/s]\n"
     ]
    },
    {
     "name": "stdout",
     "output_type": "stream",
     "text": [
      "train_dataset_30_0: 30 samples\n",
      "val_dataset_30_0: 30 samples\n",
      "test_dataset_30_0: 30 samples\n"
     ]
    },
    {
     "name": "stderr",
     "output_type": "stream",
     "text": [
      "Some weights of RobertaForTokenClassification were not initialized from the model checkpoint at roberta-large and are newly initialized: ['classifier.bias', 'classifier.weight']\n",
      "You should probably TRAIN this model on a down-stream task to be able to use it for predictions and inference.\n"
     ]
    },
    {
     "name": "stdout",
     "output_type": "stream",
     "text": [
      "Epoch 1/3\n"
     ]
    },
    {
     "name": "stderr",
     "output_type": "stream",
     "text": [
      "Training Epoch 1: 100%|██████████| 2/2 [00:41<00:00, 20.91s/it, loss=1.48]\n"
     ]
    },
    {
     "name": "stdout",
     "output_type": "stream",
     "text": [
      "Epoch 1 Loss: 3.8801\n",
      "Validation Metrics (Precision: 0.7671, Recall: 0.7671, F1: 0.7671)\n",
      "Epoch 2/3\n"
     ]
    },
    {
     "name": "stderr",
     "output_type": "stream",
     "text": [
      "Training Epoch 2: 100%|██████████| 2/2 [00:40<00:00, 20.31s/it, loss=0.945]\n"
     ]
    },
    {
     "name": "stdout",
     "output_type": "stream",
     "text": [
      "Epoch 2 Loss: 1.8420\n",
      "Validation Metrics (Precision: 0.7671, Recall: 0.7671, F1: 0.7671)\n",
      "Epoch 3/3\n"
     ]
    },
    {
     "name": "stderr",
     "output_type": "stream",
     "text": [
      "Training Epoch 3: 100%|██████████| 2/2 [00:39<00:00, 19.85s/it, loss=0.68] \n"
     ]
    },
    {
     "name": "stdout",
     "output_type": "stream",
     "text": [
      "Epoch 3 Loss: 1.4932\n",
      "Validation Metrics (Precision: 0.7671, Recall: 0.7671, F1: 0.7671)\n",
      "Test Metrics (Precision: 0.7777, Recall: 0.7777, F1: 0.7777)\n",
      "\n",
      "Best Model for roberta-large (large): saved_models/roberta-large\n",
      "Best Hyperparameters: {'batch_size': 8, 'learning_rate': 5e-05, 'weight_decay': 0.0}\n",
      "Best F1-Score: 0.8278\n"
     ]
    }
   ],
   "execution_count": 28
  }
 ],
 "metadata": {
  "kernelspec": {
   "display_name": "Python 3",
   "language": "python",
   "name": "python3"
  },
  "language_info": {
   "codemirror_mode": {
    "name": "ipython",
    "version": 2
   },
   "file_extension": ".py",
   "mimetype": "text/x-python",
   "name": "python",
   "nbconvert_exporter": "python",
   "pygments_lexer": "ipython2",
   "version": "2.7.6"
  }
 },
 "nbformat": 4,
 "nbformat_minor": 5
}
